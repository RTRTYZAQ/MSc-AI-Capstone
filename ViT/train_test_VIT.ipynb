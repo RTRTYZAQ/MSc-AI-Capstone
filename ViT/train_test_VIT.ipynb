{
 "cells": [
  {
   "cell_type": "markdown",
   "id": "2c20fdf0",
   "metadata": {},
   "source": [
    "# DermNet 皮肤病分类模型训练与测试 - Vision Transformer版本\n",
    "基于Vision Transformer (ViT)的皮肤病图像分类模型训练和测试"
   ]
  },
  {
   "cell_type": "markdown",
   "id": "9bc80492",
   "metadata": {},
   "source": [
    "## 1. 环境初始化和数据加载"
   ]
  },
  {
   "cell_type": "code",
   "execution_count": 1,
   "id": "a2cd5942",
   "metadata": {},
   "outputs": [
    {
     "name": "stderr",
     "output_type": "stream",
     "text": [
      "d:\\Anaconda\\envs\\capstone\\Lib\\site-packages\\tqdm\\auto.py:21: TqdmWarning: IProgress not found. Please update jupyter and ipywidgets. See https://ipywidgets.readthedocs.io/en/stable/user_install.html\n",
      "  from .autonotebook import tqdm as notebook_tqdm\n"
     ]
    },
    {
     "name": "stdout",
     "output_type": "stream",
     "text": [
      "使用设备: cuda\n",
      "类别数: 23\n",
      "类别: ['Acne and Rosacea Photos', 'Actinic Keratosis Basal Cell Carcinoma and other Malignant Lesions', 'Atopic Dermatitis Photos', 'Bullous Disease Photos', 'Cellulitis Impetigo and other Bacterial Infections']...\n"
     ]
    }
   ],
   "source": [
    "import os\n",
    "import json\n",
    "import numpy as np\n",
    "import pandas as pd\n",
    "import cv2\n",
    "from tqdm import tqdm\n",
    "import warnings\n",
    "\n",
    "import torch\n",
    "import torch.nn as nn\n",
    "import torch.optim as optim\n",
    "from torch.utils.data import Dataset, DataLoader\n",
    "from torch.optim.lr_scheduler import ReduceLROnPlateau\n",
    "\n",
    "import albumentations as A\n",
    "from albumentations.pytorch import ToTensorV2\n",
    "\n",
    "from sklearn.metrics import accuracy_score, classification_report, confusion_matrix\n",
    "import matplotlib.pyplot as plt\n",
    "import seaborn as sns\n",
    "\n",
    "# 设置matplotlib中文字体支持\n",
    "import matplotlib\n",
    "matplotlib.rcParams['font.sans-serif'] = ['SimHei']\n",
    "matplotlib.rcParams['axes.unicode_minus'] = False\n",
    "\n",
    "# 过滤字体警告\n",
    "warnings.filterwarnings('ignore', category=UserWarning, module='matplotlib')\n",
    "\n",
    "# 导入ViT模型\n",
    "from VIT import ViT_Base, ViT_Small\n",
    "\n",
    "# 设置随机种子\n",
    "torch.manual_seed(42)\n",
    "np.random.seed(42)\n",
    "\n",
    "# 设置设备\n",
    "device = torch.device('cuda' if torch.cuda.is_available() else 'cpu')\n",
    "print(f\"使用设备: {device}\")\n",
    "\n",
    "# 加载类别映射和权重\n",
    "with open('processed_data/category_mapping.json', 'r', encoding='utf-8') as f:\n",
    "    mapping_info = json.load(f)\n",
    "\n",
    "with open('processed_data/class_weights.json', 'r') as f:\n",
    "    class_weights_dict = json.load(f)\n",
    "\n",
    "num_classes = mapping_info['num_classes']\n",
    "print(f\"类别数: {num_classes}\")\n",
    "print(f\"类别: {mapping_info['categories'][:5]}...\")  # 显示前5个类别"
   ]
  },
  {
   "cell_type": "markdown",
   "id": "94ec8552",
   "metadata": {},
   "source": [
    "## 2. 数据集定义"
   ]
  },
  {
   "cell_type": "code",
   "execution_count": 2,
   "id": "f90c7019",
   "metadata": {},
   "outputs": [],
   "source": [
    "class DermNetDataset(Dataset):\n",
    "    def __init__(self, dataframe, transform=None):\n",
    "        self.data = dataframe.reset_index(drop=True)\n",
    "        self.transform = transform\n",
    "        print(f\"数据集初始化完成，包含 {len(self.data)} 个样本\")\n",
    "        \n",
    "    def __len__(self):\n",
    "        return len(self.data)\n",
    "    \n",
    "    def __getitem__(self, idx):\n",
    "        if idx >= len(self.data):\n",
    "            raise IndexError(f\"索引 {idx} 超出范围 [0, {len(self.data)})]\")\n",
    "            \n",
    "        row = self.data.iloc[idx]\n",
    "        image_path = row['image_path']\n",
    "        \n",
    "        # 使用cv2.imdecode来处理中文路径\n",
    "        try:\n",
    "            if not os.path.exists(image_path):\n",
    "                raise FileNotFoundError(f\"文件不存在: {image_path}\")\n",
    "                \n",
    "            with open(image_path, 'rb') as f:\n",
    "                image_data = f.read()\n",
    "            \n",
    "            if len(image_data) == 0:\n",
    "                raise ValueError(f\"文件为空: {image_path}\")\n",
    "                \n",
    "            nparr = np.frombuffer(image_data, np.uint8)\n",
    "            image = cv2.imdecode(nparr, cv2.IMREAD_COLOR)\n",
    "            \n",
    "            if image is None:\n",
    "                raise ValueError(f\"无法解码图片: {image_path}\")\n",
    "                \n",
    "            image = cv2.cvtColor(image, cv2.COLOR_BGR2RGB)\n",
    "                \n",
    "        except Exception as e:\n",
    "            print(f\"读取图片失败 {image_path}: {str(e)}\")\n",
    "            raise ValueError(f\"无法读取图片 {image_path}: {str(e)}\")\n",
    "        \n",
    "        # 应用数据变换\n",
    "        if self.transform:\n",
    "            try:\n",
    "                transformed = self.transform(image=image)\n",
    "                image = transformed['image']\n",
    "            except Exception as e:\n",
    "                print(f\"数据变换失败: {str(e)}\")\n",
    "                raise ValueError(f\"数据变换失败: {str(e)}\")\n",
    "        \n",
    "        return image, row['label']\n",
    "\n",
    "# 针对医学图像优化的数据增强策略\n",
    "def get_transforms(mode='train'):\n",
    "    if mode == 'train':\n",
    "        return A.Compose([\n",
    "            # 基础变换\n",
    "            A.Resize(256, 256),\n",
    "            A.RandomCrop(224, 224),\n",
    "            \n",
    "            # 医学图像适用的几何变换\n",
    "            A.HorizontalFlip(p=0.5),  # 水平翻转（皮肤病图像通常左右对称性不重要）\n",
    "            A.RandomRotate90(p=0.3),  # 90度旋转\n",
    "            A.Rotate(limit=15, p=0.3),  # 小角度旋转\n",
    "            \n",
    "            # 颜色增强（医学图像需要谨慎）\n",
    "            A.RandomBrightnessContrast(\n",
    "                brightness_limit=0.15,  # 降低亮度变化范围\n",
    "                contrast_limit=0.15,    # 降低对比度变化范围\n",
    "                p=0.3\n",
    "            ),\n",
    "            A.HueSaturationValue(\n",
    "                hue_shift_limit=10,     # 色调变化\n",
    "                sat_shift_limit=15,     # 饱和度变化\n",
    "                val_shift_limit=10,     # 明度变化\n",
    "                p=0.2\n",
    "            ),\n",
    "            \n",
    "            # 轻微的模糊和噪声（模拟不同的拍摄条件）\n",
    "            A.OneOf([\n",
    "                A.GaussianBlur(blur_limit=(1, 3), p=1.0),\n",
    "                A.MotionBlur(blur_limit=3, p=1.0),\n",
    "            ], p=0.15),\n",
    "            \n",
    "            # 轻微的噪声\n",
    "            A.GaussNoise(var_limit=(5, 15), p=0.1),\n",
    "            \n",
    "            # 标准化（ImageNet预训练权重需要）\n",
    "            A.Normalize(\n",
    "                mean=[0.485, 0.456, 0.406], \n",
    "                std=[0.229, 0.224, 0.225]\n",
    "            ),\n",
    "            ToTensorV2()\n",
    "        ])\n",
    "    else:\n",
    "        return A.Compose([\n",
    "            A.Resize(224, 224),\n",
    "            A.Normalize(\n",
    "                mean=[0.485, 0.456, 0.406], \n",
    "                std=[0.229, 0.224, 0.225]\n",
    "            ),\n",
    "            ToTensorV2()\n",
    "        ])"
   ]
  },
  {
   "cell_type": "markdown",
   "id": "e18eff74",
   "metadata": {},
   "source": [
    "## 3. 数据加载器创建"
   ]
  },
  {
   "cell_type": "code",
   "execution_count": 3,
   "id": "b8da9909",
   "metadata": {},
   "outputs": [
    {
     "name": "stdout",
     "output_type": "stream",
     "text": [
      "训练集大小: 15557\n",
      "测试集大小: 4002\n",
      "\n",
      "前3行训练数据:\n",
      "                                          image_path                 category  \\\n",
      "0  DermNet/train/Acne and Rosacea Photos/07Acne08...  Acne and Rosacea Photos   \n",
      "1  DermNet/train/Acne and Rosacea Photos/07AcnePi...  Acne and Rosacea Photos   \n",
      "2  DermNet/train/Acne and Rosacea Photos/07AcnePi...  Acne and Rosacea Photos   \n",
      "\n",
      "  dataset_type  label  \n",
      "0        train      0  \n",
      "1        train      0  \n",
      "2        train      0  \n",
      "\n",
      "检查前3个文件是否存在:\n",
      "  1. DermNet/train/Acne and Rosacea Photos/07Acne081101.jpg - 存在\n",
      "  2. DermNet/train/Acne and Rosacea Photos/07AcnePittedScars.jpg - 存在\n",
      "  3. DermNet/train/Acne and Rosacea Photos/07AcnePittedScars1.jpg - 存在\n",
      "\n",
      "创建数据集...\n",
      "数据集初始化完成，包含 15557 个样本\n",
      "数据集初始化完成，包含 4002 个样本\n",
      "\n",
      "测试单个样本加载...\n",
      "单个样本测试成功: 图像形状 torch.Size([3, 224, 224]), 标签 0\n",
      "\n",
      "创建数据加载器...\n",
      "训练批次数: 973\n",
      "测试批次数: 251\n"
     ]
    },
    {
     "name": "stderr",
     "output_type": "stream",
     "text": [
      "C:\\Users\\XYD\\AppData\\Local\\Temp\\ipykernel_33648\\211012168.py:84: UserWarning: Argument(s) 'var_limit' are not valid for transform GaussNoise\n",
      "  A.GaussNoise(var_limit=(5, 15), p=0.1),\n"
     ]
    }
   ],
   "source": [
    "# 加载数据\n",
    "train_df = pd.read_csv('processed_data/train.csv')\n",
    "test_df = pd.read_csv('processed_data/test.csv')\n",
    "\n",
    "print(f\"训练集大小: {len(train_df)}\")\n",
    "print(f\"测试集大小: {len(test_df)}\")\n",
    "\n",
    "# 先检查前几行数据的路径\n",
    "print(\"\\n前3行训练数据:\")\n",
    "print(train_df.head(3))\n",
    "\n",
    "# 检查路径是否存在\n",
    "print(f\"\\n检查前3个文件是否存在:\")\n",
    "for i in range(min(3, len(train_df))):\n",
    "    path = train_df.iloc[i]['image_path']\n",
    "    exists = os.path.exists(path)\n",
    "    print(f\"  {i+1}. {path} - {'存在' if exists else '不存在'}\")\n",
    "\n",
    "print(\"\\n创建数据集...\")\n",
    "# 创建数据集\n",
    "train_dataset = DermNetDataset(train_df, transform=get_transforms('train'))\n",
    "test_dataset = DermNetDataset(test_df, transform=get_transforms('test'))\n",
    "\n",
    "print(\"\\n测试单个样本加载...\")\n",
    "try:\n",
    "    sample_image, sample_label = train_dataset[0]\n",
    "    print(f\"单个样本测试成功: 图像形状 {sample_image.shape}, 标签 {sample_label}\")\n",
    "except Exception as e:\n",
    "    print(f\"单个样本测试失败: {str(e)}\")\n",
    "    import traceback\n",
    "    traceback.print_exc()\n",
    "\n",
    "# 只有单个样本成功后才创建数据加载器\n",
    "print(\"\\n创建数据加载器...\")\n",
    "batch_size = 16  # ViT通常使用较小的批次\n",
    "train_loader = DataLoader(train_dataset, batch_size=batch_size, shuffle=True, num_workers=0, pin_memory=False)\n",
    "test_loader = DataLoader(test_dataset, batch_size=batch_size, shuffle=False, num_workers=0, pin_memory=False)\n",
    "\n",
    "print(f\"训练批次数: {len(train_loader)}\")\n",
    "print(f\"测试批次数: {len(test_loader)}\")"
   ]
  },
  {
   "cell_type": "markdown",
   "id": "041211e8",
   "metadata": {},
   "source": [
    "## 4. ViT模型初始化"
   ]
  },
  {
   "cell_type": "code",
   "execution_count": 4,
   "id": "f30d9a72",
   "metadata": {},
   "outputs": [
    {
     "name": "stdout",
     "output_type": "stream",
     "text": [
      "正在加载预训练ViT模型: vit_base_patch16_224\n",
      "✓ 成功加载预训练ViT模型: vit_base_patch16_224\n",
      "✓ 成功加载预训练ViT模型: vit_base_patch16_224\n",
      "ViT模型创建成功\n",
      "模型初始化完成\n",
      "模型参数量: 85,816,343\n",
      "可训练参数量: 85,816,343\n",
      "学习率: 0.0001\n",
      "使用预训练权重: 是\n",
      "冻结backbone: 否\n",
      "类别权重范围: 0.484 ~ 3.209\n",
      "\n",
      "模型架构概要:\n",
      "ViT模型创建成功\n",
      "模型初始化完成\n",
      "模型参数量: 85,816,343\n",
      "可训练参数量: 85,816,343\n",
      "学习率: 0.0001\n",
      "使用预训练权重: 是\n",
      "冻结backbone: 否\n",
      "类别权重范围: 0.484 ~ 3.209\n",
      "\n",
      "模型架构概要:\n",
      "----------------------------------------------------------------\n",
      "        Layer (type)               Output Shape         Param #\n",
      "================================================================\n",
      "            Conv2d-1          [-1, 768, 14, 14]         590,592\n",
      "          Identity-2             [-1, 196, 768]               0\n",
      "        PatchEmbed-3             [-1, 196, 768]               0\n",
      "           Dropout-4             [-1, 197, 768]               0\n",
      "          Identity-5             [-1, 197, 768]               0\n",
      "          Identity-6             [-1, 197, 768]               0\n",
      "         LayerNorm-7             [-1, 197, 768]           1,536\n",
      "            Linear-8            [-1, 197, 2304]       1,771,776\n",
      "          Identity-9          [-1, 12, 197, 64]               0\n",
      "         Identity-10          [-1, 12, 197, 64]               0\n",
      "         Identity-11             [-1, 197, 768]               0\n",
      "           Linear-12             [-1, 197, 768]         590,592\n",
      "          Dropout-13             [-1, 197, 768]               0\n",
      "        Attention-14             [-1, 197, 768]               0\n",
      "         Identity-15             [-1, 197, 768]               0\n",
      "         Identity-16             [-1, 197, 768]               0\n",
      "        LayerNorm-17             [-1, 197, 768]           1,536\n",
      "           Linear-18            [-1, 197, 3072]       2,362,368\n",
      "             GELU-19            [-1, 197, 3072]               0\n",
      "          Dropout-20            [-1, 197, 3072]               0\n",
      "         Identity-21            [-1, 197, 3072]               0\n",
      "           Linear-22             [-1, 197, 768]       2,360,064\n",
      "          Dropout-23             [-1, 197, 768]               0\n",
      "              Mlp-24             [-1, 197, 768]               0\n",
      "         Identity-25             [-1, 197, 768]               0\n",
      "         Identity-26             [-1, 197, 768]               0\n",
      "            Block-27             [-1, 197, 768]               0\n",
      "        LayerNorm-28             [-1, 197, 768]           1,536\n",
      "           Linear-29            [-1, 197, 2304]       1,771,776\n",
      "         Identity-30          [-1, 12, 197, 64]               0\n",
      "         Identity-31          [-1, 12, 197, 64]               0\n",
      "         Identity-32             [-1, 197, 768]               0\n",
      "           Linear-33             [-1, 197, 768]         590,592\n",
      "          Dropout-34             [-1, 197, 768]               0\n",
      "        Attention-35             [-1, 197, 768]               0\n",
      "         Identity-36             [-1, 197, 768]               0\n",
      "         DropPath-37             [-1, 197, 768]               0\n",
      "        LayerNorm-38             [-1, 197, 768]           1,536\n",
      "           Linear-39            [-1, 197, 3072]       2,362,368\n",
      "             GELU-40            [-1, 197, 3072]               0\n",
      "          Dropout-41            [-1, 197, 3072]               0\n",
      "         Identity-42            [-1, 197, 3072]               0\n",
      "           Linear-43             [-1, 197, 768]       2,360,064\n",
      "          Dropout-44             [-1, 197, 768]               0\n",
      "              Mlp-45             [-1, 197, 768]               0\n",
      "         Identity-46             [-1, 197, 768]               0\n",
      "         DropPath-47             [-1, 197, 768]               0\n",
      "            Block-48             [-1, 197, 768]               0\n",
      "        LayerNorm-49             [-1, 197, 768]           1,536\n",
      "           Linear-50            [-1, 197, 2304]       1,771,776\n",
      "         Identity-51          [-1, 12, 197, 64]               0\n",
      "         Identity-52          [-1, 12, 197, 64]               0\n",
      "         Identity-53             [-1, 197, 768]               0\n",
      "           Linear-54             [-1, 197, 768]         590,592\n",
      "          Dropout-55             [-1, 197, 768]               0\n",
      "        Attention-56             [-1, 197, 768]               0\n",
      "         Identity-57             [-1, 197, 768]               0\n",
      "         DropPath-58             [-1, 197, 768]               0\n",
      "        LayerNorm-59             [-1, 197, 768]           1,536\n",
      "           Linear-60            [-1, 197, 3072]       2,362,368\n",
      "             GELU-61            [-1, 197, 3072]               0\n",
      "          Dropout-62            [-1, 197, 3072]               0\n",
      "         Identity-63            [-1, 197, 3072]               0\n",
      "           Linear-64             [-1, 197, 768]       2,360,064\n",
      "          Dropout-65             [-1, 197, 768]               0\n",
      "              Mlp-66             [-1, 197, 768]               0\n",
      "         Identity-67             [-1, 197, 768]               0\n",
      "         DropPath-68             [-1, 197, 768]               0\n",
      "            Block-69             [-1, 197, 768]               0\n",
      "        LayerNorm-70             [-1, 197, 768]           1,536\n",
      "           Linear-71            [-1, 197, 2304]       1,771,776\n",
      "         Identity-72          [-1, 12, 197, 64]               0\n",
      "         Identity-73          [-1, 12, 197, 64]               0\n",
      "         Identity-74             [-1, 197, 768]               0\n",
      "           Linear-75             [-1, 197, 768]         590,592\n",
      "          Dropout-76             [-1, 197, 768]               0\n",
      "        Attention-77             [-1, 197, 768]               0\n",
      "         Identity-78             [-1, 197, 768]               0\n",
      "         DropPath-79             [-1, 197, 768]               0\n",
      "        LayerNorm-80             [-1, 197, 768]           1,536\n",
      "           Linear-81            [-1, 197, 3072]       2,362,368\n",
      "             GELU-82            [-1, 197, 3072]               0\n",
      "          Dropout-83            [-1, 197, 3072]               0\n",
      "         Identity-84            [-1, 197, 3072]               0\n",
      "           Linear-85             [-1, 197, 768]       2,360,064\n",
      "          Dropout-86             [-1, 197, 768]               0\n",
      "              Mlp-87             [-1, 197, 768]               0\n",
      "         Identity-88             [-1, 197, 768]               0\n",
      "         DropPath-89             [-1, 197, 768]               0\n",
      "            Block-90             [-1, 197, 768]               0\n",
      "        LayerNorm-91             [-1, 197, 768]           1,536\n",
      "           Linear-92            [-1, 197, 2304]       1,771,776\n",
      "         Identity-93          [-1, 12, 197, 64]               0\n",
      "         Identity-94          [-1, 12, 197, 64]               0\n",
      "         Identity-95             [-1, 197, 768]               0\n",
      "           Linear-96             [-1, 197, 768]         590,592\n",
      "          Dropout-97             [-1, 197, 768]               0\n",
      "        Attention-98             [-1, 197, 768]               0\n",
      "         Identity-99             [-1, 197, 768]               0\n",
      "        DropPath-100             [-1, 197, 768]               0\n",
      "       LayerNorm-101             [-1, 197, 768]           1,536\n",
      "          Linear-102            [-1, 197, 3072]       2,362,368\n",
      "            GELU-103            [-1, 197, 3072]               0\n",
      "         Dropout-104            [-1, 197, 3072]               0\n",
      "        Identity-105            [-1, 197, 3072]               0\n",
      "          Linear-106             [-1, 197, 768]       2,360,064\n",
      "         Dropout-107             [-1, 197, 768]               0\n",
      "             Mlp-108             [-1, 197, 768]               0\n",
      "        Identity-109             [-1, 197, 768]               0\n",
      "        DropPath-110             [-1, 197, 768]               0\n",
      "           Block-111             [-1, 197, 768]               0\n",
      "       LayerNorm-112             [-1, 197, 768]           1,536\n",
      "          Linear-113            [-1, 197, 2304]       1,771,776\n",
      "        Identity-114          [-1, 12, 197, 64]               0\n",
      "        Identity-115          [-1, 12, 197, 64]               0\n",
      "        Identity-116             [-1, 197, 768]               0\n",
      "          Linear-117             [-1, 197, 768]         590,592\n",
      "         Dropout-118             [-1, 197, 768]               0\n",
      "       Attention-119             [-1, 197, 768]               0\n",
      "        Identity-120             [-1, 197, 768]               0\n",
      "        DropPath-121             [-1, 197, 768]               0\n",
      "       LayerNorm-122             [-1, 197, 768]           1,536\n",
      "          Linear-123            [-1, 197, 3072]       2,362,368\n",
      "            GELU-124            [-1, 197, 3072]               0\n",
      "         Dropout-125            [-1, 197, 3072]               0\n",
      "        Identity-126            [-1, 197, 3072]               0\n",
      "          Linear-127             [-1, 197, 768]       2,360,064\n",
      "         Dropout-128             [-1, 197, 768]               0\n",
      "             Mlp-129             [-1, 197, 768]               0\n",
      "        Identity-130             [-1, 197, 768]               0\n",
      "        DropPath-131             [-1, 197, 768]               0\n",
      "           Block-132             [-1, 197, 768]               0\n",
      "       LayerNorm-133             [-1, 197, 768]           1,536\n",
      "          Linear-134            [-1, 197, 2304]       1,771,776\n",
      "        Identity-135          [-1, 12, 197, 64]               0\n",
      "        Identity-136          [-1, 12, 197, 64]               0\n",
      "        Identity-137             [-1, 197, 768]               0\n",
      "          Linear-138             [-1, 197, 768]         590,592\n",
      "         Dropout-139             [-1, 197, 768]               0\n",
      "       Attention-140             [-1, 197, 768]               0\n",
      "        Identity-141             [-1, 197, 768]               0\n",
      "        DropPath-142             [-1, 197, 768]               0\n",
      "       LayerNorm-143             [-1, 197, 768]           1,536\n",
      "          Linear-144            [-1, 197, 3072]       2,362,368\n",
      "            GELU-145            [-1, 197, 3072]               0\n",
      "         Dropout-146            [-1, 197, 3072]               0\n",
      "        Identity-147            [-1, 197, 3072]               0\n",
      "          Linear-148             [-1, 197, 768]       2,360,064\n",
      "         Dropout-149             [-1, 197, 768]               0\n",
      "             Mlp-150             [-1, 197, 768]               0\n",
      "        Identity-151             [-1, 197, 768]               0\n",
      "        DropPath-152             [-1, 197, 768]               0\n",
      "           Block-153             [-1, 197, 768]               0\n",
      "       LayerNorm-154             [-1, 197, 768]           1,536\n",
      "          Linear-155            [-1, 197, 2304]       1,771,776\n",
      "        Identity-156          [-1, 12, 197, 64]               0\n",
      "        Identity-157          [-1, 12, 197, 64]               0\n",
      "        Identity-158             [-1, 197, 768]               0\n",
      "          Linear-159             [-1, 197, 768]         590,592\n",
      "         Dropout-160             [-1, 197, 768]               0\n",
      "       Attention-161             [-1, 197, 768]               0\n",
      "        Identity-162             [-1, 197, 768]               0\n",
      "        DropPath-163             [-1, 197, 768]               0\n",
      "       LayerNorm-164             [-1, 197, 768]           1,536\n",
      "          Linear-165            [-1, 197, 3072]       2,362,368\n",
      "            GELU-166            [-1, 197, 3072]               0\n",
      "         Dropout-167            [-1, 197, 3072]               0\n",
      "        Identity-168            [-1, 197, 3072]               0\n",
      "          Linear-169             [-1, 197, 768]       2,360,064\n",
      "         Dropout-170             [-1, 197, 768]               0\n",
      "             Mlp-171             [-1, 197, 768]               0\n",
      "        Identity-172             [-1, 197, 768]               0\n",
      "        DropPath-173             [-1, 197, 768]               0\n",
      "           Block-174             [-1, 197, 768]               0\n",
      "       LayerNorm-175             [-1, 197, 768]           1,536\n",
      "          Linear-176            [-1, 197, 2304]       1,771,776\n",
      "        Identity-177          [-1, 12, 197, 64]               0\n",
      "        Identity-178          [-1, 12, 197, 64]               0\n",
      "        Identity-179             [-1, 197, 768]               0\n",
      "          Linear-180             [-1, 197, 768]         590,592\n",
      "         Dropout-181             [-1, 197, 768]               0\n",
      "       Attention-182             [-1, 197, 768]               0\n",
      "        Identity-183             [-1, 197, 768]               0\n",
      "        DropPath-184             [-1, 197, 768]               0\n",
      "       LayerNorm-185             [-1, 197, 768]           1,536\n",
      "          Linear-186            [-1, 197, 3072]       2,362,368\n",
      "            GELU-187            [-1, 197, 3072]               0\n",
      "         Dropout-188            [-1, 197, 3072]               0\n",
      "        Identity-189            [-1, 197, 3072]               0\n",
      "          Linear-190             [-1, 197, 768]       2,360,064\n",
      "         Dropout-191             [-1, 197, 768]               0\n",
      "             Mlp-192             [-1, 197, 768]               0\n",
      "        Identity-193             [-1, 197, 768]               0\n",
      "        DropPath-194             [-1, 197, 768]               0\n",
      "           Block-195             [-1, 197, 768]               0\n",
      "       LayerNorm-196             [-1, 197, 768]           1,536\n",
      "          Linear-197            [-1, 197, 2304]       1,771,776\n",
      "        Identity-198          [-1, 12, 197, 64]               0\n",
      "        Identity-199          [-1, 12, 197, 64]               0\n",
      "        Identity-200             [-1, 197, 768]               0\n",
      "          Linear-201             [-1, 197, 768]         590,592\n",
      "         Dropout-202             [-1, 197, 768]               0\n",
      "       Attention-203             [-1, 197, 768]               0\n",
      "        Identity-204             [-1, 197, 768]               0\n",
      "        DropPath-205             [-1, 197, 768]               0\n",
      "       LayerNorm-206             [-1, 197, 768]           1,536\n",
      "          Linear-207            [-1, 197, 3072]       2,362,368\n",
      "            GELU-208            [-1, 197, 3072]               0\n",
      "         Dropout-209            [-1, 197, 3072]               0\n",
      "        Identity-210            [-1, 197, 3072]               0\n",
      "          Linear-211             [-1, 197, 768]       2,360,064\n",
      "         Dropout-212             [-1, 197, 768]               0\n",
      "             Mlp-213             [-1, 197, 768]               0\n",
      "        Identity-214             [-1, 197, 768]               0\n",
      "        DropPath-215             [-1, 197, 768]               0\n",
      "           Block-216             [-1, 197, 768]               0\n",
      "       LayerNorm-217             [-1, 197, 768]           1,536\n",
      "          Linear-218            [-1, 197, 2304]       1,771,776\n",
      "        Identity-219          [-1, 12, 197, 64]               0\n",
      "        Identity-220          [-1, 12, 197, 64]               0\n",
      "        Identity-221             [-1, 197, 768]               0\n",
      "          Linear-222             [-1, 197, 768]         590,592\n",
      "         Dropout-223             [-1, 197, 768]               0\n",
      "       Attention-224             [-1, 197, 768]               0\n",
      "        Identity-225             [-1, 197, 768]               0\n",
      "        DropPath-226             [-1, 197, 768]               0\n",
      "       LayerNorm-227             [-1, 197, 768]           1,536\n",
      "          Linear-228            [-1, 197, 3072]       2,362,368\n",
      "            GELU-229            [-1, 197, 3072]               0\n",
      "         Dropout-230            [-1, 197, 3072]               0\n",
      "        Identity-231            [-1, 197, 3072]               0\n",
      "          Linear-232             [-1, 197, 768]       2,360,064\n",
      "         Dropout-233             [-1, 197, 768]               0\n",
      "             Mlp-234             [-1, 197, 768]               0\n",
      "        Identity-235             [-1, 197, 768]               0\n",
      "        DropPath-236             [-1, 197, 768]               0\n",
      "           Block-237             [-1, 197, 768]               0\n",
      "       LayerNorm-238             [-1, 197, 768]           1,536\n",
      "          Linear-239            [-1, 197, 2304]       1,771,776\n",
      "        Identity-240          [-1, 12, 197, 64]               0\n",
      "        Identity-241          [-1, 12, 197, 64]               0\n",
      "        Identity-242             [-1, 197, 768]               0\n",
      "          Linear-243             [-1, 197, 768]         590,592\n",
      "         Dropout-244             [-1, 197, 768]               0\n",
      "       Attention-245             [-1, 197, 768]               0\n",
      "        Identity-246             [-1, 197, 768]               0\n",
      "        DropPath-247             [-1, 197, 768]               0\n",
      "       LayerNorm-248             [-1, 197, 768]           1,536\n",
      "          Linear-249            [-1, 197, 3072]       2,362,368\n",
      "            GELU-250            [-1, 197, 3072]               0\n",
      "         Dropout-251            [-1, 197, 3072]               0\n",
      "        Identity-252            [-1, 197, 3072]               0\n",
      "          Linear-253             [-1, 197, 768]       2,360,064\n",
      "         Dropout-254             [-1, 197, 768]               0\n",
      "             Mlp-255             [-1, 197, 768]               0\n",
      "        Identity-256             [-1, 197, 768]               0\n",
      "        DropPath-257             [-1, 197, 768]               0\n",
      "           Block-258             [-1, 197, 768]               0\n",
      "       LayerNorm-259             [-1, 197, 768]           1,536\n",
      "        Identity-260                  [-1, 768]               0\n",
      "         Dropout-261                  [-1, 768]               0\n",
      "          Linear-262                   [-1, 23]          17,687\n",
      "================================================================\n",
      "Total params: 85,664,279\n",
      "Trainable params: 85,664,279\n",
      "Non-trainable params: 0\n",
      "----------------------------------------------------------------\n",
      "Input size (MB): 0.57\n",
      "Forward/backward pass size (MB): 492.88\n",
      "Params size (MB): 326.78\n",
      "Estimated Total Size (MB): 820.24\n",
      "----------------------------------------------------------------\n",
      "----------------------------------------------------------------\n",
      "        Layer (type)               Output Shape         Param #\n",
      "================================================================\n",
      "            Conv2d-1          [-1, 768, 14, 14]         590,592\n",
      "          Identity-2             [-1, 196, 768]               0\n",
      "        PatchEmbed-3             [-1, 196, 768]               0\n",
      "           Dropout-4             [-1, 197, 768]               0\n",
      "          Identity-5             [-1, 197, 768]               0\n",
      "          Identity-6             [-1, 197, 768]               0\n",
      "         LayerNorm-7             [-1, 197, 768]           1,536\n",
      "            Linear-8            [-1, 197, 2304]       1,771,776\n",
      "          Identity-9          [-1, 12, 197, 64]               0\n",
      "         Identity-10          [-1, 12, 197, 64]               0\n",
      "         Identity-11             [-1, 197, 768]               0\n",
      "           Linear-12             [-1, 197, 768]         590,592\n",
      "          Dropout-13             [-1, 197, 768]               0\n",
      "        Attention-14             [-1, 197, 768]               0\n",
      "         Identity-15             [-1, 197, 768]               0\n",
      "         Identity-16             [-1, 197, 768]               0\n",
      "        LayerNorm-17             [-1, 197, 768]           1,536\n",
      "           Linear-18            [-1, 197, 3072]       2,362,368\n",
      "             GELU-19            [-1, 197, 3072]               0\n",
      "          Dropout-20            [-1, 197, 3072]               0\n",
      "         Identity-21            [-1, 197, 3072]               0\n",
      "           Linear-22             [-1, 197, 768]       2,360,064\n",
      "          Dropout-23             [-1, 197, 768]               0\n",
      "              Mlp-24             [-1, 197, 768]               0\n",
      "         Identity-25             [-1, 197, 768]               0\n",
      "         Identity-26             [-1, 197, 768]               0\n",
      "            Block-27             [-1, 197, 768]               0\n",
      "        LayerNorm-28             [-1, 197, 768]           1,536\n",
      "           Linear-29            [-1, 197, 2304]       1,771,776\n",
      "         Identity-30          [-1, 12, 197, 64]               0\n",
      "         Identity-31          [-1, 12, 197, 64]               0\n",
      "         Identity-32             [-1, 197, 768]               0\n",
      "           Linear-33             [-1, 197, 768]         590,592\n",
      "          Dropout-34             [-1, 197, 768]               0\n",
      "        Attention-35             [-1, 197, 768]               0\n",
      "         Identity-36             [-1, 197, 768]               0\n",
      "         DropPath-37             [-1, 197, 768]               0\n",
      "        LayerNorm-38             [-1, 197, 768]           1,536\n",
      "           Linear-39            [-1, 197, 3072]       2,362,368\n",
      "             GELU-40            [-1, 197, 3072]               0\n",
      "          Dropout-41            [-1, 197, 3072]               0\n",
      "         Identity-42            [-1, 197, 3072]               0\n",
      "           Linear-43             [-1, 197, 768]       2,360,064\n",
      "          Dropout-44             [-1, 197, 768]               0\n",
      "              Mlp-45             [-1, 197, 768]               0\n",
      "         Identity-46             [-1, 197, 768]               0\n",
      "         DropPath-47             [-1, 197, 768]               0\n",
      "            Block-48             [-1, 197, 768]               0\n",
      "        LayerNorm-49             [-1, 197, 768]           1,536\n",
      "           Linear-50            [-1, 197, 2304]       1,771,776\n",
      "         Identity-51          [-1, 12, 197, 64]               0\n",
      "         Identity-52          [-1, 12, 197, 64]               0\n",
      "         Identity-53             [-1, 197, 768]               0\n",
      "           Linear-54             [-1, 197, 768]         590,592\n",
      "          Dropout-55             [-1, 197, 768]               0\n",
      "        Attention-56             [-1, 197, 768]               0\n",
      "         Identity-57             [-1, 197, 768]               0\n",
      "         DropPath-58             [-1, 197, 768]               0\n",
      "        LayerNorm-59             [-1, 197, 768]           1,536\n",
      "           Linear-60            [-1, 197, 3072]       2,362,368\n",
      "             GELU-61            [-1, 197, 3072]               0\n",
      "          Dropout-62            [-1, 197, 3072]               0\n",
      "         Identity-63            [-1, 197, 3072]               0\n",
      "           Linear-64             [-1, 197, 768]       2,360,064\n",
      "          Dropout-65             [-1, 197, 768]               0\n",
      "              Mlp-66             [-1, 197, 768]               0\n",
      "         Identity-67             [-1, 197, 768]               0\n",
      "         DropPath-68             [-1, 197, 768]               0\n",
      "            Block-69             [-1, 197, 768]               0\n",
      "        LayerNorm-70             [-1, 197, 768]           1,536\n",
      "           Linear-71            [-1, 197, 2304]       1,771,776\n",
      "         Identity-72          [-1, 12, 197, 64]               0\n",
      "         Identity-73          [-1, 12, 197, 64]               0\n",
      "         Identity-74             [-1, 197, 768]               0\n",
      "           Linear-75             [-1, 197, 768]         590,592\n",
      "          Dropout-76             [-1, 197, 768]               0\n",
      "        Attention-77             [-1, 197, 768]               0\n",
      "         Identity-78             [-1, 197, 768]               0\n",
      "         DropPath-79             [-1, 197, 768]               0\n",
      "        LayerNorm-80             [-1, 197, 768]           1,536\n",
      "           Linear-81            [-1, 197, 3072]       2,362,368\n",
      "             GELU-82            [-1, 197, 3072]               0\n",
      "          Dropout-83            [-1, 197, 3072]               0\n",
      "         Identity-84            [-1, 197, 3072]               0\n",
      "           Linear-85             [-1, 197, 768]       2,360,064\n",
      "          Dropout-86             [-1, 197, 768]               0\n",
      "              Mlp-87             [-1, 197, 768]               0\n",
      "         Identity-88             [-1, 197, 768]               0\n",
      "         DropPath-89             [-1, 197, 768]               0\n",
      "            Block-90             [-1, 197, 768]               0\n",
      "        LayerNorm-91             [-1, 197, 768]           1,536\n",
      "           Linear-92            [-1, 197, 2304]       1,771,776\n",
      "         Identity-93          [-1, 12, 197, 64]               0\n",
      "         Identity-94          [-1, 12, 197, 64]               0\n",
      "         Identity-95             [-1, 197, 768]               0\n",
      "           Linear-96             [-1, 197, 768]         590,592\n",
      "          Dropout-97             [-1, 197, 768]               0\n",
      "        Attention-98             [-1, 197, 768]               0\n",
      "         Identity-99             [-1, 197, 768]               0\n",
      "        DropPath-100             [-1, 197, 768]               0\n",
      "       LayerNorm-101             [-1, 197, 768]           1,536\n",
      "          Linear-102            [-1, 197, 3072]       2,362,368\n",
      "            GELU-103            [-1, 197, 3072]               0\n",
      "         Dropout-104            [-1, 197, 3072]               0\n",
      "        Identity-105            [-1, 197, 3072]               0\n",
      "          Linear-106             [-1, 197, 768]       2,360,064\n",
      "         Dropout-107             [-1, 197, 768]               0\n",
      "             Mlp-108             [-1, 197, 768]               0\n",
      "        Identity-109             [-1, 197, 768]               0\n",
      "        DropPath-110             [-1, 197, 768]               0\n",
      "           Block-111             [-1, 197, 768]               0\n",
      "       LayerNorm-112             [-1, 197, 768]           1,536\n",
      "          Linear-113            [-1, 197, 2304]       1,771,776\n",
      "        Identity-114          [-1, 12, 197, 64]               0\n",
      "        Identity-115          [-1, 12, 197, 64]               0\n",
      "        Identity-116             [-1, 197, 768]               0\n",
      "          Linear-117             [-1, 197, 768]         590,592\n",
      "         Dropout-118             [-1, 197, 768]               0\n",
      "       Attention-119             [-1, 197, 768]               0\n",
      "        Identity-120             [-1, 197, 768]               0\n",
      "        DropPath-121             [-1, 197, 768]               0\n",
      "       LayerNorm-122             [-1, 197, 768]           1,536\n",
      "          Linear-123            [-1, 197, 3072]       2,362,368\n",
      "            GELU-124            [-1, 197, 3072]               0\n",
      "         Dropout-125            [-1, 197, 3072]               0\n",
      "        Identity-126            [-1, 197, 3072]               0\n",
      "          Linear-127             [-1, 197, 768]       2,360,064\n",
      "         Dropout-128             [-1, 197, 768]               0\n",
      "             Mlp-129             [-1, 197, 768]               0\n",
      "        Identity-130             [-1, 197, 768]               0\n",
      "        DropPath-131             [-1, 197, 768]               0\n",
      "           Block-132             [-1, 197, 768]               0\n",
      "       LayerNorm-133             [-1, 197, 768]           1,536\n",
      "          Linear-134            [-1, 197, 2304]       1,771,776\n",
      "        Identity-135          [-1, 12, 197, 64]               0\n",
      "        Identity-136          [-1, 12, 197, 64]               0\n",
      "        Identity-137             [-1, 197, 768]               0\n",
      "          Linear-138             [-1, 197, 768]         590,592\n",
      "         Dropout-139             [-1, 197, 768]               0\n",
      "       Attention-140             [-1, 197, 768]               0\n",
      "        Identity-141             [-1, 197, 768]               0\n",
      "        DropPath-142             [-1, 197, 768]               0\n",
      "       LayerNorm-143             [-1, 197, 768]           1,536\n",
      "          Linear-144            [-1, 197, 3072]       2,362,368\n",
      "            GELU-145            [-1, 197, 3072]               0\n",
      "         Dropout-146            [-1, 197, 3072]               0\n",
      "        Identity-147            [-1, 197, 3072]               0\n",
      "          Linear-148             [-1, 197, 768]       2,360,064\n",
      "         Dropout-149             [-1, 197, 768]               0\n",
      "             Mlp-150             [-1, 197, 768]               0\n",
      "        Identity-151             [-1, 197, 768]               0\n",
      "        DropPath-152             [-1, 197, 768]               0\n",
      "           Block-153             [-1, 197, 768]               0\n",
      "       LayerNorm-154             [-1, 197, 768]           1,536\n",
      "          Linear-155            [-1, 197, 2304]       1,771,776\n",
      "        Identity-156          [-1, 12, 197, 64]               0\n",
      "        Identity-157          [-1, 12, 197, 64]               0\n",
      "        Identity-158             [-1, 197, 768]               0\n",
      "          Linear-159             [-1, 197, 768]         590,592\n",
      "         Dropout-160             [-1, 197, 768]               0\n",
      "       Attention-161             [-1, 197, 768]               0\n",
      "        Identity-162             [-1, 197, 768]               0\n",
      "        DropPath-163             [-1, 197, 768]               0\n",
      "       LayerNorm-164             [-1, 197, 768]           1,536\n",
      "          Linear-165            [-1, 197, 3072]       2,362,368\n",
      "            GELU-166            [-1, 197, 3072]               0\n",
      "         Dropout-167            [-1, 197, 3072]               0\n",
      "        Identity-168            [-1, 197, 3072]               0\n",
      "          Linear-169             [-1, 197, 768]       2,360,064\n",
      "         Dropout-170             [-1, 197, 768]               0\n",
      "             Mlp-171             [-1, 197, 768]               0\n",
      "        Identity-172             [-1, 197, 768]               0\n",
      "        DropPath-173             [-1, 197, 768]               0\n",
      "           Block-174             [-1, 197, 768]               0\n",
      "       LayerNorm-175             [-1, 197, 768]           1,536\n",
      "          Linear-176            [-1, 197, 2304]       1,771,776\n",
      "        Identity-177          [-1, 12, 197, 64]               0\n",
      "        Identity-178          [-1, 12, 197, 64]               0\n",
      "        Identity-179             [-1, 197, 768]               0\n",
      "          Linear-180             [-1, 197, 768]         590,592\n",
      "         Dropout-181             [-1, 197, 768]               0\n",
      "       Attention-182             [-1, 197, 768]               0\n",
      "        Identity-183             [-1, 197, 768]               0\n",
      "        DropPath-184             [-1, 197, 768]               0\n",
      "       LayerNorm-185             [-1, 197, 768]           1,536\n",
      "          Linear-186            [-1, 197, 3072]       2,362,368\n",
      "            GELU-187            [-1, 197, 3072]               0\n",
      "         Dropout-188            [-1, 197, 3072]               0\n",
      "        Identity-189            [-1, 197, 3072]               0\n",
      "          Linear-190             [-1, 197, 768]       2,360,064\n",
      "         Dropout-191             [-1, 197, 768]               0\n",
      "             Mlp-192             [-1, 197, 768]               0\n",
      "        Identity-193             [-1, 197, 768]               0\n",
      "        DropPath-194             [-1, 197, 768]               0\n",
      "           Block-195             [-1, 197, 768]               0\n",
      "       LayerNorm-196             [-1, 197, 768]           1,536\n",
      "          Linear-197            [-1, 197, 2304]       1,771,776\n",
      "        Identity-198          [-1, 12, 197, 64]               0\n",
      "        Identity-199          [-1, 12, 197, 64]               0\n",
      "        Identity-200             [-1, 197, 768]               0\n",
      "          Linear-201             [-1, 197, 768]         590,592\n",
      "         Dropout-202             [-1, 197, 768]               0\n",
      "       Attention-203             [-1, 197, 768]               0\n",
      "        Identity-204             [-1, 197, 768]               0\n",
      "        DropPath-205             [-1, 197, 768]               0\n",
      "       LayerNorm-206             [-1, 197, 768]           1,536\n",
      "          Linear-207            [-1, 197, 3072]       2,362,368\n",
      "            GELU-208            [-1, 197, 3072]               0\n",
      "         Dropout-209            [-1, 197, 3072]               0\n",
      "        Identity-210            [-1, 197, 3072]               0\n",
      "          Linear-211             [-1, 197, 768]       2,360,064\n",
      "         Dropout-212             [-1, 197, 768]               0\n",
      "             Mlp-213             [-1, 197, 768]               0\n",
      "        Identity-214             [-1, 197, 768]               0\n",
      "        DropPath-215             [-1, 197, 768]               0\n",
      "           Block-216             [-1, 197, 768]               0\n",
      "       LayerNorm-217             [-1, 197, 768]           1,536\n",
      "          Linear-218            [-1, 197, 2304]       1,771,776\n",
      "        Identity-219          [-1, 12, 197, 64]               0\n",
      "        Identity-220          [-1, 12, 197, 64]               0\n",
      "        Identity-221             [-1, 197, 768]               0\n",
      "          Linear-222             [-1, 197, 768]         590,592\n",
      "         Dropout-223             [-1, 197, 768]               0\n",
      "       Attention-224             [-1, 197, 768]               0\n",
      "        Identity-225             [-1, 197, 768]               0\n",
      "        DropPath-226             [-1, 197, 768]               0\n",
      "       LayerNorm-227             [-1, 197, 768]           1,536\n",
      "          Linear-228            [-1, 197, 3072]       2,362,368\n",
      "            GELU-229            [-1, 197, 3072]               0\n",
      "         Dropout-230            [-1, 197, 3072]               0\n",
      "        Identity-231            [-1, 197, 3072]               0\n",
      "          Linear-232             [-1, 197, 768]       2,360,064\n",
      "         Dropout-233             [-1, 197, 768]               0\n",
      "             Mlp-234             [-1, 197, 768]               0\n",
      "        Identity-235             [-1, 197, 768]               0\n",
      "        DropPath-236             [-1, 197, 768]               0\n",
      "           Block-237             [-1, 197, 768]               0\n",
      "       LayerNorm-238             [-1, 197, 768]           1,536\n",
      "          Linear-239            [-1, 197, 2304]       1,771,776\n",
      "        Identity-240          [-1, 12, 197, 64]               0\n",
      "        Identity-241          [-1, 12, 197, 64]               0\n",
      "        Identity-242             [-1, 197, 768]               0\n",
      "          Linear-243             [-1, 197, 768]         590,592\n",
      "         Dropout-244             [-1, 197, 768]               0\n",
      "       Attention-245             [-1, 197, 768]               0\n",
      "        Identity-246             [-1, 197, 768]               0\n",
      "        DropPath-247             [-1, 197, 768]               0\n",
      "       LayerNorm-248             [-1, 197, 768]           1,536\n",
      "          Linear-249            [-1, 197, 3072]       2,362,368\n",
      "            GELU-250            [-1, 197, 3072]               0\n",
      "         Dropout-251            [-1, 197, 3072]               0\n",
      "        Identity-252            [-1, 197, 3072]               0\n",
      "          Linear-253             [-1, 197, 768]       2,360,064\n",
      "         Dropout-254             [-1, 197, 768]               0\n",
      "             Mlp-255             [-1, 197, 768]               0\n",
      "        Identity-256             [-1, 197, 768]               0\n",
      "        DropPath-257             [-1, 197, 768]               0\n",
      "           Block-258             [-1, 197, 768]               0\n",
      "       LayerNorm-259             [-1, 197, 768]           1,536\n",
      "        Identity-260                  [-1, 768]               0\n",
      "         Dropout-261                  [-1, 768]               0\n",
      "          Linear-262                   [-1, 23]          17,687\n",
      "================================================================\n",
      "Total params: 85,664,279\n",
      "Trainable params: 85,664,279\n",
      "Non-trainable params: 0\n",
      "----------------------------------------------------------------\n",
      "Input size (MB): 0.57\n",
      "Forward/backward pass size (MB): 492.88\n",
      "Params size (MB): 326.78\n",
      "Estimated Total Size (MB): 820.24\n",
      "----------------------------------------------------------------\n"
     ]
    }
   ],
   "source": [
    "# 重新导入ViT模块以确保使用最新版本\n",
    "import importlib\n",
    "import timm\n",
    "\n",
    "# 使用timm加载预训练的ViT模型\n",
    "use_pretrained = True  # 使用预训练权重\n",
    "model_name = 'vit_base_patch16_224'  # ViT-Base/16 224x224\n",
    "\n",
    "print(f\"正在加载预训练ViT模型: {model_name}\")\n",
    "\n",
    "if use_pretrained:\n",
    "    # 使用timm加载预训练模型\n",
    "    model = timm.create_model(\n",
    "        model_name,\n",
    "        pretrained=True,  # 加载ImageNet预训练权重\n",
    "        num_classes=num_classes,  # 修改分类头为皮肤病类别数\n",
    "        drop_rate=0.1,  # dropout率\n",
    "        drop_path_rate=0.1  # DropPath率（随机深度）\n",
    "    )\n",
    "    print(f\"✓ 成功加载预训练ViT模型: {model_name}\")\n",
    "else:\n",
    "    # 随机初始化\n",
    "    model = timm.create_model(\n",
    "        model_name,\n",
    "        pretrained=False,\n",
    "        num_classes=num_classes,\n",
    "        drop_rate=0.1\n",
    "    )\n",
    "    print(\"使用随机初始化权重\")\n",
    "\n",
    "# 将模型移到设备上\n",
    "model = model.to(device)\n",
    "\n",
    "# 可选：冻结部分层进行微调\n",
    "freeze_backbone = False  # 是否冻结backbone\n",
    "\n",
    "if freeze_backbone and use_pretrained:\n",
    "    # 冻结除了分类头之外的所有参数\n",
    "    for name, param in model.named_parameters():\n",
    "        if 'head' not in name:  # timm中分类层通常叫'head'\n",
    "            param.requires_grad = False\n",
    "    print(\"✓ 已冻结backbone，仅训练分类头\")\n",
    "\n",
    "print(\"ViT模型创建成功\")\n",
    "\n",
    "# 损失函数（使用类别权重）\n",
    "class_weights = torch.tensor([class_weights_dict[str(i)] for i in range(num_classes)], dtype=torch.float32).to(device)\n",
    "criterion = nn.CrossEntropyLoss(weight=class_weights)\n",
    "\n",
    "# 优化器 - ViT通常需要更小的学习率\n",
    "if freeze_backbone:\n",
    "    learning_rate = 0.001  # 仅训练分类头时可以用较大学习率\n",
    "else:\n",
    "    learning_rate = 0.0001 if use_pretrained else 0.001  # 全模型微调用较小学习率\n",
    "\n",
    "optimizer = optim.AdamW(\n",
    "    model.parameters(), \n",
    "    lr=learning_rate, \n",
    "    weight_decay=0.05,  # ViT通常用较大的weight decay\n",
    "    betas=(0.9, 0.999)\n",
    ")\n",
    "\n",
    "# 学习率调度器\n",
    "scheduler = ReduceLROnPlateau(optimizer, mode='min', factor=0.5, patience=3)\n",
    "\n",
    "print(\"模型初始化完成\")\n",
    "print(f\"模型参数量: {sum(p.numel() for p in model.parameters()):,}\")\n",
    "print(f\"可训练参数量: {sum(p.numel() for p in model.parameters() if p.requires_grad):,}\")\n",
    "print(f\"学习率: {learning_rate}\")\n",
    "print(f\"使用预训练权重: {'是' if use_pretrained else '否'}\")\n",
    "print(f\"冻结backbone: {'是' if freeze_backbone else '否'}\")\n",
    "print(f\"类别权重范围: {class_weights.min():.3f} ~ {class_weights.max():.3f}\")\n",
    "\n",
    "# 显示模型架构概要\n",
    "print(\"\\n模型架构概要:\")\n",
    "from torchsummary import summary\n",
    "summary(model, (3, 224, 224))"
   ]
  },
  {
   "cell_type": "markdown",
   "id": "4c5ae93b",
   "metadata": {},
   "source": [
    "## 5. 训练函数"
   ]
  },
  {
   "cell_type": "code",
   "execution_count": 5,
   "id": "e6fef385",
   "metadata": {},
   "outputs": [],
   "source": [
    "def train_epoch(model, dataloader, criterion, optimizer, device):\n",
    "    model.train()\n",
    "    running_loss = 0.0\n",
    "    correct = 0\n",
    "    total = 0\n",
    "    \n",
    "    pbar = tqdm(dataloader, desc='训练中')\n",
    "    for batch_idx, (images, labels) in enumerate(pbar, 1):  # 添加batch_idx计数\n",
    "        images, labels = images.to(device), labels.to(device)\n",
    "        \n",
    "        optimizer.zero_grad()\n",
    "        outputs = model(images)\n",
    "        loss = criterion(outputs, labels)\n",
    "        loss.backward()\n",
    "        \n",
    "        # 梯度裁剪（对ViT很重要）\n",
    "        torch.nn.utils.clip_grad_norm_(model.parameters(), max_norm=1.0)\n",
    "        \n",
    "        optimizer.step()\n",
    "        \n",
    "        running_loss += loss.item()\n",
    "        _, predicted = torch.max(outputs.data, 1)\n",
    "        total += labels.size(0)\n",
    "        correct += (predicted == labels).sum().item()\n",
    "        \n",
    "        # 更新进度条 - 使用batch_idx而不是len(pbar)\n",
    "        pbar.set_postfix({\n",
    "            'Loss': f'{running_loss/batch_idx:.4f}',\n",
    "            'Acc': f'{100.*correct/total:.2f}%'\n",
    "        })\n",
    "    \n",
    "    epoch_loss = running_loss / len(dataloader)\n",
    "    epoch_acc = 100. * correct / total\n",
    "    return epoch_loss, epoch_acc\n",
    "\n",
    "def validate_epoch(model, dataloader, criterion, device):\n",
    "    model.eval()\n",
    "    running_loss = 0.0\n",
    "    correct = 0\n",
    "    total = 0\n",
    "    all_preds = []\n",
    "    all_labels = []\n",
    "    \n",
    "    with torch.no_grad():\n",
    "        pbar = tqdm(dataloader, desc='验证中')\n",
    "        for batch_idx, (images, labels) in enumerate(pbar, 1):  # 添加batch_idx计数\n",
    "            images, labels = images.to(device), labels.to(device)\n",
    "            \n",
    "            outputs = model(images)\n",
    "            loss = criterion(outputs, labels)\n",
    "            \n",
    "            running_loss += loss.item()\n",
    "            _, predicted = torch.max(outputs.data, 1)\n",
    "            total += labels.size(0)\n",
    "            correct += (predicted == labels).sum().item()\n",
    "            \n",
    "            all_preds.extend(predicted.cpu().numpy())\n",
    "            all_labels.extend(labels.cpu().numpy())\n",
    "            \n",
    "            # 更新进度条 - 使用batch_idx而不是len(pbar)\n",
    "            pbar.set_postfix({\n",
    "                'Loss': f'{running_loss/batch_idx:.4f}',\n",
    "                'Acc': f'{100.*correct/total:.2f}%'\n",
    "            })\n",
    "    \n",
    "    epoch_loss = running_loss / len(dataloader)\n",
    "    epoch_acc = 100. * correct / total\n",
    "    return epoch_loss, epoch_acc, all_preds, all_labels"
   ]
  },
  {
   "cell_type": "markdown",
   "id": "dc154c45",
   "metadata": {},
   "source": [
    "## 6. 模型训练"
   ]
  },
  {
   "cell_type": "code",
   "execution_count": null,
   "id": "0306ce31",
   "metadata": {},
   "outputs": [
    {
     "name": "stdout",
     "output_type": "stream",
     "text": [
      "开始训练ViT模型...\n",
      "\n",
      "Epoch 1/300\n",
      "--------------------------------------------------\n"
     ]
    },
    {
     "name": "stderr",
     "output_type": "stream",
     "text": [
      "训练中: 100%|██████████| 973/973 [05:23<00:00,  3.00it/s, Loss=2.9647, Acc=13.03%]\n",
      "训练中: 100%|██████████| 973/973 [05:23<00:00,  3.00it/s, Loss=2.9647, Acc=13.03%]\n",
      "验证中: 100%|██████████| 251/251 [00:29<00:00,  8.57it/s, Loss=2.5207, Acc=26.41%]\n",
      "\n"
     ]
    },
    {
     "name": "stdout",
     "output_type": "stream",
     "text": [
      "✓ 保存最佳ViT模型 (验证损失: 2.5207, 验证准确率: 26.41%)\n",
      "\n",
      "Epoch 2/300\n",
      "--------------------------------------------------\n"
     ]
    },
    {
     "name": "stderr",
     "output_type": "stream",
     "text": [
      "训练中: 100%|██████████| 973/973 [05:11<00:00,  3.12it/s, Loss=2.5972, Acc=23.17%]\n",
      "训练中: 100%|██████████| 973/973 [05:11<00:00,  3.12it/s, Loss=2.5972, Acc=23.17%]\n",
      "验证中: 100%|██████████| 251/251 [00:28<00:00,  8.93it/s, Loss=2.5412, Acc=25.09%]\n",
      "验证中: 100%|██████████| 251/251 [00:28<00:00,  8.93it/s, Loss=2.5412, Acc=25.09%]\n"
     ]
    },
    {
     "name": "stdout",
     "output_type": "stream",
     "text": [
      "\n",
      "Epoch 3/300\n",
      "--------------------------------------------------\n"
     ]
    },
    {
     "name": "stderr",
     "output_type": "stream",
     "text": [
      "训练中: 100%|██████████| 973/973 [05:12<00:00,  3.11it/s, Loss=2.3684, Acc=29.65%]\n",
      "训练中: 100%|██████████| 973/973 [05:12<00:00,  3.11it/s, Loss=2.3684, Acc=29.65%]\n",
      "验证中: 100%|██████████| 251/251 [00:27<00:00,  9.01it/s, Loss=2.1406, Acc=36.26%]\n",
      "\n"
     ]
    },
    {
     "name": "stdout",
     "output_type": "stream",
     "text": [
      "✓ 保存最佳ViT模型 (验证损失: 2.1406, 验证准确率: 36.26%)\n",
      "\n",
      "Epoch 4/300\n",
      "--------------------------------------------------\n"
     ]
    },
    {
     "name": "stderr",
     "output_type": "stream",
     "text": [
      "训练中: 100%|██████████| 973/973 [05:13<00:00,  3.11it/s, Loss=2.2015, Acc=33.47%]\n",
      "训练中: 100%|██████████| 973/973 [05:13<00:00,  3.11it/s, Loss=2.2015, Acc=33.47%]\n",
      "验证中: 100%|██████████| 251/251 [00:27<00:00,  8.99it/s, Loss=2.1056, Acc=36.73%]\n",
      "\n"
     ]
    },
    {
     "name": "stdout",
     "output_type": "stream",
     "text": [
      "✓ 保存最佳ViT模型 (验证损失: 2.1056, 验证准确率: 36.73%)\n",
      "\n",
      "Epoch 5/300\n",
      "--------------------------------------------------\n"
     ]
    },
    {
     "name": "stderr",
     "output_type": "stream",
     "text": [
      "训练中: 100%|██████████| 973/973 [05:13<00:00,  3.11it/s, Loss=2.0545, Acc=36.69%]\n",
      "训练中: 100%|██████████| 973/973 [05:13<00:00,  3.11it/s, Loss=2.0545, Acc=36.69%]\n",
      "验证中: 100%|██████████| 251/251 [00:27<00:00,  9.03it/s, Loss=2.1507, Acc=36.41%]\n",
      "验证中: 100%|██████████| 251/251 [00:27<00:00,  9.03it/s, Loss=2.1507, Acc=36.41%]\n"
     ]
    },
    {
     "name": "stdout",
     "output_type": "stream",
     "text": [
      "\n",
      "Epoch 6/300\n",
      "--------------------------------------------------\n"
     ]
    },
    {
     "name": "stderr",
     "output_type": "stream",
     "text": [
      "训练中: 100%|██████████| 973/973 [05:13<00:00,  3.11it/s, Loss=1.9268, Acc=40.15%]\n",
      "训练中: 100%|██████████| 973/973 [05:13<00:00,  3.11it/s, Loss=1.9268, Acc=40.15%]\n",
      "验证中: 100%|██████████| 251/251 [00:27<00:00,  8.97it/s, Loss=1.8912, Acc=42.58%]\n",
      "\n"
     ]
    },
    {
     "name": "stdout",
     "output_type": "stream",
     "text": [
      "✓ 保存最佳ViT模型 (验证损失: 1.8912, 验证准确率: 42.58%)\n",
      "\n",
      "Epoch 7/300\n",
      "--------------------------------------------------\n"
     ]
    },
    {
     "name": "stderr",
     "output_type": "stream",
     "text": [
      "训练中: 100%|██████████| 973/973 [05:13<00:00,  3.11it/s, Loss=1.7877, Acc=44.11%]\n",
      "训练中: 100%|██████████| 973/973 [05:13<00:00,  3.11it/s, Loss=1.7877, Acc=44.11%]\n",
      "验证中: 100%|██████████| 251/251 [00:27<00:00,  9.03it/s, Loss=1.8621, Acc=44.08%]\n",
      "\n"
     ]
    },
    {
     "name": "stdout",
     "output_type": "stream",
     "text": [
      "✓ 保存最佳ViT模型 (验证损失: 1.8621, 验证准确率: 44.08%)\n",
      "\n",
      "Epoch 8/300\n",
      "--------------------------------------------------\n"
     ]
    },
    {
     "name": "stderr",
     "output_type": "stream",
     "text": [
      "训练中: 100%|██████████| 973/973 [05:13<00:00,  3.11it/s, Loss=1.6900, Acc=46.28%]\n",
      "训练中: 100%|██████████| 973/973 [05:13<00:00,  3.11it/s, Loss=1.6900, Acc=46.28%]\n",
      "验证中: 100%|██████████| 251/251 [00:27<00:00,  9.02it/s, Loss=1.8438, Acc=44.73%]\n",
      "\n"
     ]
    },
    {
     "name": "stdout",
     "output_type": "stream",
     "text": [
      "✓ 保存最佳ViT模型 (验证损失: 1.8438, 验证准确率: 44.73%)\n",
      "\n",
      "Epoch 9/300\n",
      "--------------------------------------------------\n"
     ]
    },
    {
     "name": "stderr",
     "output_type": "stream",
     "text": [
      "训练中: 100%|██████████| 973/973 [05:16<00:00,  3.08it/s, Loss=1.5705, Acc=49.54%]\n",
      "训练中: 100%|██████████| 973/973 [05:16<00:00,  3.08it/s, Loss=1.5705, Acc=49.54%]\n",
      "验证中: 100%|██████████| 251/251 [00:27<00:00,  8.99it/s, Loss=1.7916, Acc=46.35%]\n",
      "\n"
     ]
    },
    {
     "name": "stdout",
     "output_type": "stream",
     "text": [
      "✓ 保存最佳ViT模型 (验证损失: 1.7916, 验证准确率: 46.35%)\n",
      "\n",
      "Epoch 10/300\n",
      "--------------------------------------------------\n"
     ]
    },
    {
     "name": "stderr",
     "output_type": "stream",
     "text": [
      "训练中: 100%|██████████| 973/973 [05:13<00:00,  3.11it/s, Loss=1.4662, Acc=52.34%]\n",
      "训练中: 100%|██████████| 973/973 [05:13<00:00,  3.11it/s, Loss=1.4662, Acc=52.34%]\n",
      "验证中: 100%|██████████| 251/251 [00:27<00:00,  9.01it/s, Loss=1.7030, Acc=50.70%]\n",
      "\n"
     ]
    },
    {
     "name": "stdout",
     "output_type": "stream",
     "text": [
      "✓ 保存最佳ViT模型 (验证损失: 1.7030, 验证准确率: 50.70%)\n",
      "\n",
      "Epoch 11/300\n",
      "--------------------------------------------------\n"
     ]
    },
    {
     "name": "stderr",
     "output_type": "stream",
     "text": [
      "训练中: 100%|██████████| 973/973 [05:13<00:00,  3.10it/s, Loss=1.3621, Acc=54.94%]\n",
      "训练中: 100%|██████████| 973/973 [05:13<00:00,  3.10it/s, Loss=1.3621, Acc=54.94%]\n",
      "验证中: 100%|██████████| 251/251 [00:27<00:00,  9.03it/s, Loss=1.6676, Acc=51.80%]\n",
      "\n"
     ]
    },
    {
     "name": "stdout",
     "output_type": "stream",
     "text": [
      "✓ 保存最佳ViT模型 (验证损失: 1.6676, 验证准确率: 51.80%)\n",
      "\n",
      "Epoch 12/300\n",
      "--------------------------------------------------\n"
     ]
    },
    {
     "name": "stderr",
     "output_type": "stream",
     "text": [
      "训练中: 100%|██████████| 973/973 [05:13<00:00,  3.10it/s, Loss=1.2579, Acc=58.00%]\n",
      "训练中: 100%|██████████| 973/973 [05:13<00:00,  3.10it/s, Loss=1.2579, Acc=58.00%]\n",
      "验证中: 100%|██████████| 251/251 [00:27<00:00,  8.97it/s, Loss=1.6611, Acc=51.35%]\n",
      "\n"
     ]
    },
    {
     "name": "stdout",
     "output_type": "stream",
     "text": [
      "✓ 保存最佳ViT模型 (验证损失: 1.6611, 验证准确率: 51.35%)\n",
      "\n",
      "Epoch 13/300\n",
      "--------------------------------------------------\n"
     ]
    },
    {
     "name": "stderr",
     "output_type": "stream",
     "text": [
      "训练中: 100%|██████████| 973/973 [05:13<00:00,  3.11it/s, Loss=1.2061, Acc=59.46%]\n",
      "训练中: 100%|██████████| 973/973 [05:13<00:00,  3.11it/s, Loss=1.2061, Acc=59.46%]\n",
      "验证中: 100%|██████████| 251/251 [00:27<00:00,  9.00it/s, Loss=1.6781, Acc=52.77%]\n",
      "验证中: 100%|██████████| 251/251 [00:27<00:00,  9.00it/s, Loss=1.6781, Acc=52.77%]\n"
     ]
    },
    {
     "name": "stdout",
     "output_type": "stream",
     "text": [
      "\n",
      "Epoch 14/300\n",
      "--------------------------------------------------\n"
     ]
    },
    {
     "name": "stderr",
     "output_type": "stream",
     "text": [
      "训练中: 100%|██████████| 973/973 [05:13<00:00,  3.11it/s, Loss=1.1119, Acc=62.63%]\n",
      "训练中: 100%|██████████| 973/973 [05:13<00:00,  3.11it/s, Loss=1.1119, Acc=62.63%]\n",
      "验证中: 100%|██████████| 251/251 [00:27<00:00,  9.02it/s, Loss=1.7219, Acc=53.75%]\n",
      "验证中: 100%|██████████| 251/251 [00:27<00:00,  9.02it/s, Loss=1.7219, Acc=53.75%]\n"
     ]
    },
    {
     "name": "stdout",
     "output_type": "stream",
     "text": [
      "\n",
      "Epoch 15/300\n",
      "--------------------------------------------------\n"
     ]
    },
    {
     "name": "stderr",
     "output_type": "stream",
     "text": [
      "训练中: 100%|██████████| 973/973 [05:12<00:00,  3.11it/s, Loss=1.0509, Acc=63.91%]\n",
      "训练中: 100%|██████████| 973/973 [05:12<00:00,  3.11it/s, Loss=1.0509, Acc=63.91%]\n",
      "验证中: 100%|██████████| 251/251 [00:27<00:00,  9.01it/s, Loss=1.6106, Acc=56.37%]\n",
      "\n"
     ]
    },
    {
     "name": "stdout",
     "output_type": "stream",
     "text": [
      "✓ 保存最佳ViT模型 (验证损失: 1.6106, 验证准确率: 56.37%)\n",
      "\n",
      "Epoch 16/300\n",
      "--------------------------------------------------\n"
     ]
    },
    {
     "name": "stderr",
     "output_type": "stream",
     "text": [
      "训练中: 100%|██████████| 973/973 [05:13<00:00,  3.11it/s, Loss=0.9899, Acc=65.77%]\n",
      "训练中: 100%|██████████| 973/973 [05:13<00:00,  3.11it/s, Loss=0.9899, Acc=65.77%]\n",
      "验证中: 100%|██████████| 251/251 [00:27<00:00,  9.01it/s, Loss=1.6123, Acc=56.07%]\n",
      "验证中: 100%|██████████| 251/251 [00:27<00:00,  9.01it/s, Loss=1.6123, Acc=56.07%]\n"
     ]
    },
    {
     "name": "stdout",
     "output_type": "stream",
     "text": [
      "\n",
      "Epoch 17/300\n",
      "--------------------------------------------------\n"
     ]
    },
    {
     "name": "stderr",
     "output_type": "stream",
     "text": [
      "训练中: 100%|██████████| 973/973 [05:13<00:00,  3.11it/s, Loss=0.9531, Acc=66.90%]\n",
      "训练中: 100%|██████████| 973/973 [05:13<00:00,  3.11it/s, Loss=0.9531, Acc=66.90%]\n",
      "验证中: 100%|██████████| 251/251 [00:27<00:00,  9.02it/s, Loss=1.5822, Acc=57.37%]\n",
      "\n"
     ]
    },
    {
     "name": "stdout",
     "output_type": "stream",
     "text": [
      "✓ 保存最佳ViT模型 (验证损失: 1.5822, 验证准确率: 57.37%)\n",
      "\n",
      "Epoch 18/300\n",
      "--------------------------------------------------\n"
     ]
    },
    {
     "name": "stderr",
     "output_type": "stream",
     "text": [
      "训练中: 100%|██████████| 973/973 [05:13<00:00,  3.11it/s, Loss=0.8962, Acc=68.77%]\n",
      "训练中: 100%|██████████| 973/973 [05:13<00:00,  3.11it/s, Loss=0.8962, Acc=68.77%]\n",
      "验证中: 100%|██████████| 251/251 [00:27<00:00,  9.01it/s, Loss=1.6774, Acc=56.00%]\n",
      "验证中: 100%|██████████| 251/251 [00:27<00:00,  9.01it/s, Loss=1.6774, Acc=56.00%]\n"
     ]
    },
    {
     "name": "stdout",
     "output_type": "stream",
     "text": [
      "\n",
      "Epoch 19/300\n",
      "--------------------------------------------------\n"
     ]
    },
    {
     "name": "stderr",
     "output_type": "stream",
     "text": [
      "训练中: 100%|██████████| 973/973 [05:13<00:00,  3.11it/s, Loss=0.8669, Acc=69.92%]\n",
      "训练中: 100%|██████████| 973/973 [05:13<00:00,  3.11it/s, Loss=0.8669, Acc=69.92%]\n",
      "验证中: 100%|██████████| 251/251 [00:27<00:00,  9.01it/s, Loss=1.7029, Acc=56.87%]\n",
      "验证中: 100%|██████████| 251/251 [00:27<00:00,  9.01it/s, Loss=1.7029, Acc=56.87%]\n"
     ]
    },
    {
     "name": "stdout",
     "output_type": "stream",
     "text": [
      "\n",
      "Epoch 20/300\n",
      "--------------------------------------------------\n"
     ]
    },
    {
     "name": "stderr",
     "output_type": "stream",
     "text": [
      "训练中: 100%|██████████| 973/973 [05:13<00:00,  3.11it/s, Loss=0.8119, Acc=71.20%]\n",
      "训练中: 100%|██████████| 973/973 [05:13<00:00,  3.11it/s, Loss=0.8119, Acc=71.20%]\n",
      "验证中: 100%|██████████| 251/251 [00:27<00:00,  9.01it/s, Loss=1.5906, Acc=58.82%]\n",
      "验证中: 100%|██████████| 251/251 [00:27<00:00,  9.01it/s, Loss=1.5906, Acc=58.82%]\n"
     ]
    },
    {
     "name": "stdout",
     "output_type": "stream",
     "text": [
      "\n",
      "Epoch 21/300\n",
      "--------------------------------------------------\n"
     ]
    },
    {
     "name": "stderr",
     "output_type": "stream",
     "text": [
      "训练中: 100%|██████████| 973/973 [05:13<00:00,  3.11it/s, Loss=0.7619, Acc=72.71%]\n",
      "训练中: 100%|██████████| 973/973 [05:13<00:00,  3.11it/s, Loss=0.7619, Acc=72.71%]\n",
      "验证中: 100%|██████████| 251/251 [00:27<00:00,  9.02it/s, Loss=1.6413, Acc=59.97%]\n",
      "验证中: 100%|██████████| 251/251 [00:27<00:00,  9.02it/s, Loss=1.6413, Acc=59.97%]\n"
     ]
    },
    {
     "name": "stdout",
     "output_type": "stream",
     "text": [
      "\n",
      "Epoch 22/300\n",
      "--------------------------------------------------\n"
     ]
    },
    {
     "name": "stderr",
     "output_type": "stream",
     "text": [
      "训练中: 100%|██████████| 973/973 [05:14<00:00,  3.10it/s, Loss=0.5320, Acc=80.50%]\n",
      "训练中: 100%|██████████| 973/973 [05:14<00:00,  3.10it/s, Loss=0.5320, Acc=80.50%]\n",
      "验证中: 100%|██████████| 251/251 [00:27<00:00,  8.98it/s, Loss=1.6853, Acc=63.52%]\n",
      "验证中: 100%|██████████| 251/251 [00:27<00:00,  8.98it/s, Loss=1.6853, Acc=63.52%]\n"
     ]
    },
    {
     "name": "stdout",
     "output_type": "stream",
     "text": [
      "\n",
      "Epoch 23/300\n",
      "--------------------------------------------------\n"
     ]
    },
    {
     "name": "stderr",
     "output_type": "stream",
     "text": [
      "训练中: 100%|██████████| 973/973 [05:14<00:00,  3.09it/s, Loss=0.4676, Acc=83.03%]\n",
      "训练中: 100%|██████████| 973/973 [05:14<00:00,  3.09it/s, Loss=0.4676, Acc=83.03%]\n",
      "验证中: 100%|██████████| 251/251 [00:27<00:00,  8.99it/s, Loss=1.7297, Acc=63.54%]\n",
      "验证中: 100%|██████████| 251/251 [00:27<00:00,  8.99it/s, Loss=1.7297, Acc=63.54%]\n"
     ]
    },
    {
     "name": "stdout",
     "output_type": "stream",
     "text": [
      "\n",
      "Epoch 24/300\n",
      "--------------------------------------------------\n"
     ]
    },
    {
     "name": "stderr",
     "output_type": "stream",
     "text": [
      "训练中: 100%|██████████| 973/973 [05:14<00:00,  3.10it/s, Loss=0.4516, Acc=83.82%]\n",
      "训练中: 100%|██████████| 973/973 [05:14<00:00,  3.10it/s, Loss=0.4516, Acc=83.82%]\n",
      "验证中: 100%|██████████| 251/251 [00:27<00:00,  9.01it/s, Loss=1.7006, Acc=63.77%]\n",
      "验证中: 100%|██████████| 251/251 [00:27<00:00,  9.01it/s, Loss=1.7006, Acc=63.77%]\n"
     ]
    },
    {
     "name": "stdout",
     "output_type": "stream",
     "text": [
      "\n",
      "Epoch 25/300\n",
      "--------------------------------------------------\n"
     ]
    },
    {
     "name": "stderr",
     "output_type": "stream",
     "text": [
      "训练中: 100%|██████████| 973/973 [05:20<00:00,  3.04it/s, Loss=0.4085, Acc=85.09%]\n",
      "训练中: 100%|██████████| 973/973 [05:20<00:00,  3.04it/s, Loss=0.4085, Acc=85.09%]\n",
      "验证中: 100%|██████████| 251/251 [00:31<00:00,  8.08it/s, Loss=1.7435, Acc=63.97%]\n",
      "验证中: 100%|██████████| 251/251 [00:31<00:00,  8.08it/s, Loss=1.7435, Acc=63.97%]\n"
     ]
    },
    {
     "name": "stdout",
     "output_type": "stream",
     "text": [
      "\n",
      "Epoch 26/300\n",
      "--------------------------------------------------\n"
     ]
    },
    {
     "name": "stderr",
     "output_type": "stream",
     "text": [
      "训练中: 100%|██████████| 973/973 [05:21<00:00,  3.02it/s, Loss=0.3225, Acc=88.24%]\n",
      "训练中: 100%|██████████| 973/973 [05:21<00:00,  3.02it/s, Loss=0.3225, Acc=88.24%]\n",
      "验证中: 100%|██████████| 251/251 [00:29<00:00,  8.52it/s, Loss=1.7843, Acc=66.52%]\n",
      "验证中: 100%|██████████| 251/251 [00:29<00:00,  8.52it/s, Loss=1.7843, Acc=66.52%]\n"
     ]
    },
    {
     "name": "stdout",
     "output_type": "stream",
     "text": [
      "\n",
      "Epoch 27/300\n",
      "--------------------------------------------------\n"
     ]
    },
    {
     "name": "stderr",
     "output_type": "stream",
     "text": [
      "训练中: 100%|██████████| 973/973 [05:22<00:00,  3.02it/s, Loss=0.3013, Acc=89.37%]\n",
      "训练中: 100%|██████████| 973/973 [05:22<00:00,  3.02it/s, Loss=0.3013, Acc=89.37%]\n",
      "验证中: 100%|██████████| 251/251 [00:31<00:00,  8.05it/s, Loss=1.8459, Acc=67.07%]\n",
      "验证中: 100%|██████████| 251/251 [00:31<00:00,  8.05it/s, Loss=1.8459, Acc=67.07%]\n"
     ]
    },
    {
     "name": "stdout",
     "output_type": "stream",
     "text": [
      "\n",
      "Epoch 28/300\n",
      "--------------------------------------------------\n"
     ]
    },
    {
     "name": "stderr",
     "output_type": "stream",
     "text": [
      "训练中: 100%|██████████| 973/973 [05:25<00:00,  2.99it/s, Loss=0.2766, Acc=90.19%]\n",
      "训练中: 100%|██████████| 973/973 [05:25<00:00,  2.99it/s, Loss=0.2766, Acc=90.19%]\n",
      "验证中: 100%|██████████| 251/251 [00:30<00:00,  8.13it/s, Loss=1.9925, Acc=66.52%]\n",
      "验证中: 100%|██████████| 251/251 [00:30<00:00,  8.13it/s, Loss=1.9925, Acc=66.52%]\n"
     ]
    },
    {
     "name": "stdout",
     "output_type": "stream",
     "text": [
      "\n",
      "Epoch 29/300\n",
      "--------------------------------------------------\n"
     ]
    },
    {
     "name": "stderr",
     "output_type": "stream",
     "text": [
      "训练中: 100%|██████████| 973/973 [05:24<00:00,  2.99it/s, Loss=0.2767, Acc=89.91%]\n",
      "训练中: 100%|██████████| 973/973 [05:24<00:00,  2.99it/s, Loss=0.2767, Acc=89.91%]\n",
      "验证中: 100%|██████████| 251/251 [00:30<00:00,  8.17it/s, Loss=1.8604, Acc=66.47%]\n",
      "验证中: 100%|██████████| 251/251 [00:30<00:00,  8.17it/s, Loss=1.8604, Acc=66.47%]\n"
     ]
    },
    {
     "name": "stdout",
     "output_type": "stream",
     "text": [
      "\n",
      "Epoch 30/300\n",
      "--------------------------------------------------\n"
     ]
    },
    {
     "name": "stderr",
     "output_type": "stream",
     "text": [
      "训练中: 100%|██████████| 973/973 [05:24<00:00,  2.99it/s, Loss=0.2518, Acc=90.96%]\n",
      "训练中: 100%|██████████| 973/973 [05:24<00:00,  2.99it/s, Loss=0.2518, Acc=90.96%]\n",
      "验证中: 100%|██████████| 251/251 [00:30<00:00,  8.15it/s, Loss=1.9019, Acc=68.12%]\n",
      "验证中: 100%|██████████| 251/251 [00:30<00:00,  8.15it/s, Loss=1.9019, Acc=68.12%]\n"
     ]
    },
    {
     "name": "stdout",
     "output_type": "stream",
     "text": [
      "\n",
      "Epoch 31/300\n",
      "--------------------------------------------------\n"
     ]
    },
    {
     "name": "stderr",
     "output_type": "stream",
     "text": [
      "训练中: 100%|██████████| 973/973 [05:24<00:00,  3.00it/s, Loss=0.2311, Acc=91.78%]\n",
      "训练中: 100%|██████████| 973/973 [05:24<00:00,  3.00it/s, Loss=0.2311, Acc=91.78%]\n",
      "验证中: 100%|██████████| 251/251 [00:30<00:00,  8.18it/s, Loss=1.9541, Acc=68.17%]\n",
      "验证中: 100%|██████████| 251/251 [00:30<00:00,  8.18it/s, Loss=1.9541, Acc=68.17%]\n"
     ]
    },
    {
     "name": "stdout",
     "output_type": "stream",
     "text": [
      "\n",
      "Epoch 32/300\n",
      "--------------------------------------------------\n"
     ]
    },
    {
     "name": "stderr",
     "output_type": "stream",
     "text": [
      "训练中: 100%|██████████| 973/973 [05:25<00:00,  2.99it/s, Loss=0.2212, Acc=92.14%]\n",
      "训练中: 100%|██████████| 973/973 [05:25<00:00,  2.99it/s, Loss=0.2212, Acc=92.14%]\n",
      "验证中: 100%|██████████| 251/251 [00:30<00:00,  8.19it/s, Loss=1.9581, Acc=68.54%]\n",
      "验证中: 100%|██████████| 251/251 [00:30<00:00,  8.19it/s, Loss=1.9581, Acc=68.54%]\n"
     ]
    },
    {
     "name": "stdout",
     "output_type": "stream",
     "text": [
      "\n",
      "Epoch 33/300\n",
      "--------------------------------------------------\n"
     ]
    },
    {
     "name": "stderr",
     "output_type": "stream",
     "text": [
      "训练中: 100%|██████████| 973/973 [05:24<00:00,  3.00it/s, Loss=0.2090, Acc=92.22%]\n",
      "训练中: 100%|██████████| 973/973 [05:24<00:00,  3.00it/s, Loss=0.2090, Acc=92.22%]\n",
      "验证中: 100%|██████████| 251/251 [00:30<00:00,  8.16it/s, Loss=1.9652, Acc=68.74%]\n",
      "验证中: 100%|██████████| 251/251 [00:30<00:00,  8.16it/s, Loss=1.9652, Acc=68.74%]\n"
     ]
    },
    {
     "name": "stdout",
     "output_type": "stream",
     "text": [
      "\n",
      "Epoch 34/300\n",
      "--------------------------------------------------\n"
     ]
    },
    {
     "name": "stderr",
     "output_type": "stream",
     "text": [
      "训练中: 100%|██████████| 973/973 [05:24<00:00,  3.00it/s, Loss=0.1943, Acc=92.65%]\n",
      "训练中: 100%|██████████| 973/973 [05:24<00:00,  3.00it/s, Loss=0.1943, Acc=92.65%]\n",
      "验证中: 100%|██████████| 251/251 [00:30<00:00,  8.15it/s, Loss=1.9660, Acc=68.87%]\n",
      "验证中: 100%|██████████| 251/251 [00:30<00:00,  8.15it/s, Loss=1.9660, Acc=68.87%]\n"
     ]
    },
    {
     "name": "stdout",
     "output_type": "stream",
     "text": [
      "\n",
      "Epoch 35/300\n",
      "--------------------------------------------------\n"
     ]
    },
    {
     "name": "stderr",
     "output_type": "stream",
     "text": [
      "训练中: 100%|██████████| 973/973 [05:24<00:00,  3.00it/s, Loss=0.1852, Acc=93.15%]\n",
      "训练中: 100%|██████████| 973/973 [05:24<00:00,  3.00it/s, Loss=0.1852, Acc=93.15%]\n",
      "验证中: 100%|██████████| 251/251 [00:30<00:00,  8.21it/s, Loss=2.0068, Acc=68.87%]\n",
      "验证中: 100%|██████████| 251/251 [00:30<00:00,  8.21it/s, Loss=2.0068, Acc=68.87%]\n"
     ]
    },
    {
     "name": "stdout",
     "output_type": "stream",
     "text": [
      "\n",
      "Epoch 36/300\n",
      "--------------------------------------------------\n"
     ]
    },
    {
     "name": "stderr",
     "output_type": "stream",
     "text": [
      "训练中: 100%|██████████| 973/973 [05:24<00:00,  3.00it/s, Loss=0.1928, Acc=92.94%]\n",
      "训练中: 100%|██████████| 973/973 [05:24<00:00,  3.00it/s, Loss=0.1928, Acc=92.94%]\n",
      "验证中: 100%|██████████| 251/251 [00:31<00:00,  8.05it/s, Loss=2.0146, Acc=68.99%]\n",
      "验证中: 100%|██████████| 251/251 [00:31<00:00,  8.05it/s, Loss=2.0146, Acc=68.99%]\n"
     ]
    },
    {
     "name": "stdout",
     "output_type": "stream",
     "text": [
      "\n",
      "Epoch 37/300\n",
      "--------------------------------------------------\n"
     ]
    },
    {
     "name": "stderr",
     "output_type": "stream",
     "text": [
      "训练中: 100%|██████████| 973/973 [05:22<00:00,  3.01it/s, Loss=0.1884, Acc=93.04%]\n",
      "训练中: 100%|██████████| 973/973 [05:22<00:00,  3.01it/s, Loss=0.1884, Acc=93.04%]\n",
      "验证中: 100%|██████████| 251/251 [00:31<00:00,  8.07it/s, Loss=2.0062, Acc=68.82%]"
     ]
    },
    {
     "name": "stdout",
     "output_type": "stream",
     "text": [
      "早停触发，连续20个epoch验证损失没有改善\n",
      "\n",
      "ViT训练完成！最佳验证准确率: 57.37%\n"
     ]
    },
    {
     "name": "stderr",
     "output_type": "stream",
     "text": [
      "\n"
     ]
    }
   ],
   "source": [
    "# 训练设置\n",
    "num_epochs = 300\n",
    "best_val_loss = float('inf')\n",
    "best_val_acc = 0.0\n",
    "patience = 20\n",
    "patience_counter = 0\n",
    "\n",
    "# 创建保存目录\n",
    "os.makedirs('models', exist_ok=True)\n",
    "\n",
    "# 训练历史记录\n",
    "train_losses = []\n",
    "train_accs = []\n",
    "val_losses = []\n",
    "val_accs = []\n",
    "\n",
    "print(\"开始训练ViT模型...\")\n",
    "for epoch in range(num_epochs):\n",
    "    print(f\"\\nEpoch {epoch+1}/{num_epochs}\")\n",
    "    print(\"-\" * 50)\n",
    "    \n",
    "    # 训练\n",
    "    train_loss, train_acc = train_epoch(model, train_loader, criterion, optimizer, device)\n",
    "    \n",
    "    # 验证（使用测试集作为验证集）\n",
    "    val_loss, val_acc, _, _ = validate_epoch(model, test_loader, criterion, device)\n",
    "    \n",
    "    # 学习率调度\n",
    "    scheduler.step(val_loss)\n",
    "    \n",
    "    # 记录历史\n",
    "    train_losses.append(train_loss)\n",
    "    train_accs.append(train_acc)\n",
    "    val_losses.append(val_loss)\n",
    "    val_accs.append(val_acc)\n",
    "    \n",
    "    # 保存最佳模型\n",
    "    if val_loss < best_val_loss:\n",
    "        best_val_loss = val_loss\n",
    "        best_val_acc = val_acc\n",
    "        patience_counter = 0\n",
    "        \n",
    "        # 保存最佳模型\n",
    "        torch.save({\n",
    "            'epoch': epoch + 1,\n",
    "            'model_state_dict': model.state_dict(),\n",
    "            'optimizer_state_dict': optimizer.state_dict(),\n",
    "            'best_val_loss': best_val_loss,\n",
    "            'best_val_acc': best_val_acc,\n",
    "            'mapping_info': mapping_info\n",
    "        }, 'models/best_model_vit.pth')\n",
    "        \n",
    "        print(f\"✓ 保存最佳ViT模型 (验证损失: {best_val_loss:.4f}, 验证准确率: {best_val_acc:.2f}%)\")\n",
    "    else:\n",
    "        patience_counter += 1\n",
    "        \n",
    "    # 早停\n",
    "    if patience_counter >= patience:\n",
    "        print(f\"早停触发，连续{patience}个epoch验证损失没有改善\")\n",
    "        break\n",
    "\n",
    "print(f\"\\nViT训练完成！最佳验证准确率: {best_val_acc:.2f}%\")"
   ]
  },
  {
   "cell_type": "code",
   "execution_count": 1,
   "id": "89ffabc6",
   "metadata": {},
   "outputs": [
    {
     "ename": "NameError",
     "evalue": "name 'torch' is not defined",
     "output_type": "error",
     "traceback": [
      "\u001b[31m---------------------------------------------------------------------------\u001b[39m",
      "\u001b[31mNameError\u001b[39m                                 Traceback (most recent call last)",
      "\u001b[36mCell\u001b[39m\u001b[36m \u001b[39m\u001b[32mIn[1]\u001b[39m\u001b[32m, line 1\u001b[39m\n\u001b[32m----> \u001b[39m\u001b[32m1\u001b[39m \u001b[43mtorch\u001b[49m.save({\n\u001b[32m      2\u001b[39m             \u001b[33m'\u001b[39m\u001b[33mepoch\u001b[39m\u001b[33m'\u001b[39m: epoch + \u001b[32m1\u001b[39m,\n\u001b[32m      3\u001b[39m             \u001b[33m'\u001b[39m\u001b[33mmodel_state_dict\u001b[39m\u001b[33m'\u001b[39m: model.state_dict(),\n\u001b[32m      4\u001b[39m             \u001b[33m'\u001b[39m\u001b[33moptimizer_state_dict\u001b[39m\u001b[33m'\u001b[39m: optimizer.state_dict(),\n\u001b[32m      5\u001b[39m             \u001b[33m'\u001b[39m\u001b[33mbest_val_loss\u001b[39m\u001b[33m'\u001b[39m: best_val_loss,\n\u001b[32m      6\u001b[39m             \u001b[33m'\u001b[39m\u001b[33mbest_val_acc\u001b[39m\u001b[33m'\u001b[39m: best_val_acc,\n\u001b[32m      7\u001b[39m             \u001b[33m'\u001b[39m\u001b[33mmapping_info\u001b[39m\u001b[33m'\u001b[39m: mapping_info\n\u001b[32m      8\u001b[39m         }, \u001b[33m'\u001b[39m\u001b[33mmodels/last_model_vit.pth\u001b[39m\u001b[33m'\u001b[39m)\n",
      "\u001b[31mNameError\u001b[39m: name 'torch' is not defined"
     ]
    }
   ],
   "source": [
    "torch.save({\n",
    "            'epoch': epoch + 1,\n",
    "            'model_state_dict': model.state_dict(),\n",
    "            'optimizer_state_dict': optimizer.state_dict(),\n",
    "            'best_val_loss': best_val_loss,\n",
    "            'best_val_acc': best_val_acc,\n",
    "            'mapping_info': mapping_info\n",
    "        }, 'models/last_model_vit.pth')"
   ]
  },
  {
   "cell_type": "markdown",
   "id": "a79b8d94",
   "metadata": {},
   "source": [
    "## 7. 训练历史可视化"
   ]
  },
  {
   "cell_type": "code",
   "execution_count": 7,
   "id": "16de5f17",
   "metadata": {},
   "outputs": [
    {
     "data": {
      "image/png": "[encoded data removed]",
      "text/plain": [
       "<Figure size 1200x400 with 2 Axes>"
      ]
     },
     "metadata": {},
     "output_type": "display_data"
    },
    {
     "name": "stdout",
     "output_type": "stream",
     "text": [
      "ViT训练历史图表已保存\n"
     ]
    }
   ],
   "source": [
    "# 绘制训练历史\n",
    "plt.figure(figsize=(12, 4))\n",
    "\n",
    "plt.subplot(1, 2, 1)\n",
    "plt.plot(train_losses, label='训练损失', linewidth=2)\n",
    "plt.plot(val_losses, label='验证损失', linewidth=2)\n",
    "plt.title('ViT训练和验证损失', fontsize=14, pad=15)\n",
    "plt.xlabel('训练轮次 (Epoch)', fontsize=12)\n",
    "plt.ylabel('损失值', fontsize=12)\n",
    "plt.legend(fontsize=10)\n",
    "plt.grid(True, alpha=0.3)\n",
    "\n",
    "plt.subplot(1, 2, 2)\n",
    "plt.plot(train_accs, label='训练准确率', linewidth=2)\n",
    "plt.plot(val_accs, label='验证准确率', linewidth=2)\n",
    "plt.title('ViT训练和验证准确率', fontsize=14, pad=15)\n",
    "plt.xlabel('训练轮次 (Epoch)', fontsize=12)\n",
    "plt.ylabel('准确率 (%)', fontsize=12)\n",
    "plt.legend(fontsize=10)\n",
    "plt.grid(True, alpha=0.3)\n",
    "\n",
    "plt.tight_layout()\n",
    "plt.savefig('models/training_history_vit.png', dpi=300, bbox_inches='tight', \n",
    "            facecolor='white', edgecolor='none')\n",
    "plt.show()\n",
    "\n",
    "print(\"ViT训练历史图表已保存\")"
   ]
  },
  {
   "cell_type": "markdown",
   "id": "4228d63d",
   "metadata": {},
   "source": [
    "## 8. 模型测试"
   ]
  },
  {
   "cell_type": "code",
   "execution_count": 8,
   "id": "32d4e93d",
   "metadata": {},
   "outputs": [
    {
     "name": "stdout",
     "output_type": "stream",
     "text": [
      "加载最佳ViT模型 (Epoch 17)\n",
      "最佳验证损失: 1.5822\n",
      "最佳验证准确率: 57.37%\n",
      "\n",
      "在测试集上评估ViT模型...\n"
     ]
    },
    {
     "name": "stderr",
     "output_type": "stream",
     "text": [
      "验证中: 100%|██████████| 251/251 [00:31<00:00,  7.91it/s, Loss=1.5822, Acc=57.37%]"
     ]
    },
    {
     "name": "stdout",
     "output_type": "stream",
     "text": [
      "\n",
      "ViT测试结果:\n",
      "测试损失: 1.5822\n",
      "测试准确率: 57.37%\n"
     ]
    },
    {
     "name": "stderr",
     "output_type": "stream",
     "text": [
      "\n"
     ]
    }
   ],
   "source": [
    "# 加载最佳模型\n",
    "checkpoint = torch.load('models/best_model_vit.pth', map_location=device)\n",
    "model.load_state_dict(checkpoint['model_state_dict'])\n",
    "\n",
    "print(f\"加载最佳ViT模型 (Epoch {checkpoint['epoch']})\")\n",
    "print(f\"最佳验证损失: {checkpoint['best_val_loss']:.4f}\")\n",
    "print(f\"最佳验证准确率: {checkpoint['best_val_acc']:.2f}%\")\n",
    "\n",
    "# 在测试集上评估\n",
    "print(\"\\n在测试集上评估ViT模型...\")\n",
    "test_loss, test_acc, test_preds, test_labels = validate_epoch(model, test_loader, criterion, device)\n",
    "\n",
    "print(f\"\\nViT测试结果:\")\n",
    "print(f\"测试损失: {test_loss:.4f}\")\n",
    "print(f\"测试准确率: {test_acc:.2f}%\")"
   ]
  },
  {
   "cell_type": "markdown",
   "id": "315ec3d4",
   "metadata": {},
   "source": [
    "## 9. 详细评估和可视化"
   ]
  },
  {
   "cell_type": "code",
   "execution_count": 9,
   "id": "2af8b837",
   "metadata": {},
   "outputs": [
    {
     "name": "stdout",
     "output_type": "stream",
     "text": [
      "\n",
      "ViT分类报告:\n",
      "                                                                    precision    recall  f1-score   support\n",
      "\n",
      "                                           Acne and Rosacea Photos      0.841     0.795     0.817       312\n",
      "Actinic Keratosis Basal Cell Carcinoma and other Malignant Lesions      0.674     0.531     0.594       288\n",
      "                                          Atopic Dermatitis Photos      0.383     0.569     0.458       123\n",
      "                                            Bullous Disease Photos      0.433     0.487     0.458       113\n",
      "                Cellulitis Impetigo and other Bacterial Infections      0.306     0.507     0.381        73\n",
      "                                                     Eczema Photos      0.640     0.466     0.539       309\n",
      "                                      Exanthems and Drug Eruptions      0.635     0.396     0.488       101\n",
      "                 Hair Loss Photos Alopecia and other Hair Diseases      0.406     0.900     0.560        60\n",
      "                                  Herpes HPV and other STDs Photos      0.405     0.608     0.486       102\n",
      "                      Light Diseases and Disorders of Pigmentation      0.403     0.566     0.471       143\n",
      "                        Lupus and other Connective Tissue diseases      0.444     0.495     0.468       105\n",
      "                               Melanoma Skin Cancer Nevi and Moles      0.657     0.793     0.719       116\n",
      "                                Nail Fungus and other Nail Disease      0.890     0.747     0.812       261\n",
      "                    Poison Ivy Photos and other Contact Dermatitis      0.431     0.431     0.431        65\n",
      "             Psoriasis pictures Lichen Planus and related diseases      0.605     0.491     0.542       352\n",
      "             Scabies Lyme Disease and other Infestations and Bites      0.399     0.602     0.480       108\n",
      "                      Seborrheic Keratoses and other Benign Tumors      0.631     0.583     0.606       343\n",
      "                                                  Systemic Disease      0.622     0.520     0.566       152\n",
      "            Tinea Ringworm Candidiasis and other Fungal Infections      0.716     0.520     0.602       325\n",
      "                                                   Urticaria Hives      0.382     0.547     0.450        53\n",
      "                                                   Vascular Tumors      0.482     0.678     0.564       121\n",
      "                                                 Vasculitis Photos      0.385     0.667     0.488       105\n",
      "                        Warts Molluscum and other Viral Infections      0.670     0.434     0.527       272\n",
      "\n",
      "                                                          accuracy                          0.574      4002\n",
      "                                                         macro avg      0.541     0.580     0.544      4002\n",
      "                                                      weighted avg      0.611     0.574     0.580      4002\n",
      "\n"
     ]
    },
    {
     "data": {
      "image/png": "[encoded data removed]",
      "text/plain": [
       "<Figure size 1600x1400 with 2 Axes>"
      ]
     },
     "metadata": {},
     "output_type": "display_data"
    },
    {
     "name": "stdout",
     "output_type": "stream",
     "text": [
      "\n",
      "ViT混淆矩阵已保存\n"
     ]
    }
   ],
   "source": [
    "# 分类报告\n",
    "print(\"\\nViT分类报告:\")\n",
    "print(classification_report(test_labels, test_preds, \n",
    "                          target_names=mapping_info['categories'], \n",
    "                          digits=3))\n",
    "\n",
    "# 混淆矩阵\n",
    "cm = confusion_matrix(test_labels, test_preds)\n",
    "\n",
    "# 简化类别名称以便显示\n",
    "short_categories = []\n",
    "for cat in mapping_info['categories']:\n",
    "    if len(cat) > 15:  # 如果类别名太长，截取前15个字符\n",
    "        short_cat = cat[:15] + \"...\"\n",
    "    else:\n",
    "        short_cat = cat\n",
    "    short_categories.append(short_cat)\n",
    "\n",
    "plt.figure(figsize=(16, 14))\n",
    "sns.heatmap(cm, annot=True, fmt='d', cmap='Blues', \n",
    "            xticklabels=short_categories,\n",
    "            yticklabels=short_categories,\n",
    "            cbar_kws={'shrink': 0.8})\n",
    "\n",
    "plt.title('ViT皮肤病分类混淆矩阵', fontsize=16, pad=20)\n",
    "plt.xlabel('预测标签', fontsize=12)\n",
    "plt.ylabel('真实标签', fontsize=12)\n",
    "\n",
    "# 调整标签\n",
    "plt.xticks(rotation=45, ha='right', fontsize=8)\n",
    "plt.yticks(rotation=0, fontsize=8)\n",
    "\n",
    "plt.tight_layout()\n",
    "plt.savefig('models/confusion_matrix_vit.png', dpi=300, bbox_inches='tight', \n",
    "            facecolor='white', edgecolor='none')\n",
    "plt.show()\n",
    "\n",
    "print(\"\\nViT混淆矩阵已保存\")"
   ]
  },
  {
   "cell_type": "markdown",
   "id": "609dfc86",
   "metadata": {},
   "source": [
    "## 10. 保存最终结果"
   ]
  },
  {
   "cell_type": "code",
   "execution_count": 10,
   "id": "82183acd",
   "metadata": {},
   "outputs": [
    {
     "name": "stdout",
     "output_type": "stream",
     "text": [
      "\n",
      "=== ViT训练和测试完成 ===\n",
      "最佳模型保存在: models/best_model_vit.pth\n",
      "训练历史保存在: models/training_history_vit.json\n",
      "测试结果保存在: models/test_results_vit.json\n",
      "\n",
      "ViT最终测试准确率: 57.37%\n"
     ]
    }
   ],
   "source": [
    "# 保存训练历史\n",
    "history = {\n",
    "    'model_type': 'Vision Transformer',\n",
    "    'train_losses': train_losses,\n",
    "    'train_accs': train_accs,\n",
    "    'val_losses': val_losses,\n",
    "    'val_accs': val_accs,\n",
    "    'best_val_loss': best_val_loss,\n",
    "    'best_val_acc': best_val_acc,\n",
    "    'test_loss': test_loss,\n",
    "    'test_acc': test_acc\n",
    "}\n",
    "\n",
    "with open('models/training_history_vit.json', 'w') as f:\n",
    "    json.dump(history, f, indent=2)\n",
    "\n",
    "# 保存测试结果\n",
    "test_results = {\n",
    "    'model_type': 'Vision Transformer',\n",
    "    'test_accuracy': test_acc,\n",
    "    'test_loss': test_loss,\n",
    "    'classification_report': classification_report(test_labels, test_preds, \n",
    "                                                 target_names=mapping_info['categories'], \n",
    "                                                 output_dict=True)\n",
    "}\n",
    "\n",
    "with open('models/test_results_vit.json', 'w') as f:\n",
    "    json.dump(test_results, f, indent=2)\n",
    "\n",
    "print(\"\\n=== ViT训练和测试完成 ===\")\n",
    "print(f\"最佳模型保存在: models/best_model_vit.pth\")\n",
    "print(f\"训练历史保存在: models/training_history_vit.json\")\n",
    "print(f\"测试结果保存在: models/test_results_vit.json\")\n",
    "print(f\"\\nViT最终测试准确率: {test_acc:.2f}%\")"
   ]
  }
 ],
 "metadata": {
  "kernelspec": {
   "display_name": "capstone",
   "language": "python",
   "name": "python3"
  },
  "language_info": {
   "codemirror_mode": {
    "name": "ipython",
    "version": 3
   },
   "file_extension": ".py",
   "mimetype": "text/x-python",
   "name": "python",
   "nbconvert_exporter": "python",
   "pygments_lexer": "ipython3",
   "version": "3.11.13"
  }
 },
 "nbformat": 4,
 "nbformat_minor": 5
}
