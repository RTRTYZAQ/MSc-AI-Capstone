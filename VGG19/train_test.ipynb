{
 "cells": [
  {
   "cell_type": "markdown",
   "id": "6dbf7265",
   "metadata": {},
   "source": [
    "# DermNet 皮肤病分类模型训练与测试\n",
    "基于VGG19的皮肤病图像分类模型训练和测试"
   ]
  },
  {
   "cell_type": "markdown",
   "id": "a520513d",
   "metadata": {},
   "source": [
    "## 1. 环境初始化和数据加载"
   ]
  },
  {
   "cell_type": "code",
   "execution_count": 1,
   "id": "0c4b9bf2",
   "metadata": {},
   "outputs": [
    {
     "name": "stdout",
     "output_type": "stream",
     "text": [
      "使用设备: cuda\n",
      "类别数: 23\n",
      "类别: ['Acne and Rosacea Photos', 'Actinic Keratosis Basal Cell Carcinoma and other Malignant Lesions', 'Atopic Dermatitis Photos', 'Bullous Disease Photos', 'Cellulitis Impetigo and other Bacterial Infections']...\n"
     ]
    }
   ],
   "source": [
    "import os\n",
    "import json\n",
    "import numpy as np\n",
    "import pandas as pd\n",
    "import cv2\n",
    "from tqdm import tqdm\n",
    "import warnings\n",
    "\n",
    "import torch\n",
    "import torch.nn as nn\n",
    "import torch.optim as optim\n",
    "from torch.utils.data import Dataset, DataLoader\n",
    "from torch.optim.lr_scheduler import ReduceLROnPlateau\n",
    "\n",
    "import albumentations as A\n",
    "from albumentations.pytorch import ToTensorV2\n",
    "\n",
    "from sklearn.metrics import accuracy_score, classification_report, confusion_matrix\n",
    "import matplotlib.pyplot as plt\n",
    "import seaborn as sns\n",
    "\n",
    "# 设置matplotlib中文字体支持\n",
    "import matplotlib\n",
    "matplotlib.rcParams['font.sans-serif'] = ['SimHei']\n",
    "matplotlib.rcParams['axes.unicode_minus'] = False\n",
    "\n",
    "# 过滤字体警告\n",
    "warnings.filterwarnings('ignore', category=UserWarning, module='matplotlib')\n",
    "\n",
    "# 导入VGG19模型\n",
    "from VGG19 import VGG19\n",
    "\n",
    "# 设置随机种子\n",
    "torch.manual_seed(42)\n",
    "np.random.seed(42)\n",
    "\n",
    "# 设置设备\n",
    "device = torch.device('cuda' if torch.cuda.is_available() else 'cpu')\n",
    "print(f\"使用设备: {device}\")\n",
    "\n",
    "# 加载类别映射和权重\n",
    "with open('processed_data/category_mapping.json', 'r', encoding='utf-8') as f:\n",
    "    mapping_info = json.load(f)\n",
    "\n",
    "with open('processed_data/class_weights.json', 'r') as f:\n",
    "    class_weights_dict = json.load(f)\n",
    "\n",
    "num_classes = mapping_info['num_classes']\n",
    "print(f\"类别数: {num_classes}\")\n",
    "print(f\"类别: {mapping_info['categories'][:5]}...\")  # 显示前5个类别"
   ]
  },
  {
   "cell_type": "markdown",
   "id": "03225753",
   "metadata": {},
   "source": [
    "## 2. 数据集定义"
   ]
  },
  {
   "cell_type": "code",
   "execution_count": 2,
   "id": "2c7f1f5c",
   "metadata": {},
   "outputs": [],
   "source": [
    "class DermNetDataset(Dataset):\n",
    "    def __init__(self, dataframe, transform=None):\n",
    "        self.data = dataframe.reset_index(drop=True)\n",
    "        self.transform = transform\n",
    "        print(f\"数据集初始化完成，包含 {len(self.data)} 个样本\")\n",
    "        \n",
    "    def __len__(self):\n",
    "        return len(self.data)\n",
    "    \n",
    "    def __getitem__(self, idx):\n",
    "        if idx >= len(self.data):\n",
    "            raise IndexError(f\"索引 {idx} 超出范围 [0, {len(self.data)})\")\n",
    "            \n",
    "        row = self.data.iloc[idx]\n",
    "        image_path = row['image_path']\n",
    "        \n",
    "        # 使用cv2.imdecode来处理中文路径\n",
    "        try:\n",
    "            if not os.path.exists(image_path):\n",
    "                raise FileNotFoundError(f\"文件不存在: {image_path}\")\n",
    "                \n",
    "            with open(image_path, 'rb') as f:\n",
    "                image_data = f.read()\n",
    "            \n",
    "            if len(image_data) == 0:\n",
    "                raise ValueError(f\"文件为空: {image_path}\")\n",
    "                \n",
    "            nparr = np.frombuffer(image_data, np.uint8)\n",
    "            image = cv2.imdecode(nparr, cv2.IMREAD_COLOR)\n",
    "            \n",
    "            if image is None:\n",
    "                raise ValueError(f\"无法解码图片: {image_path}\")\n",
    "                \n",
    "            image = cv2.cvtColor(image, cv2.COLOR_BGR2RGB)\n",
    "                \n",
    "        except Exception as e:\n",
    "            print(f\"读取图片失败 {image_path}: {str(e)}\")\n",
    "            raise ValueError(f\"无法读取图片 {image_path}: {str(e)}\")\n",
    "        \n",
    "        # 应用数据变换\n",
    "        if self.transform:\n",
    "            try:\n",
    "                transformed = self.transform(image=image)\n",
    "                image = transformed['image']\n",
    "            except Exception as e:\n",
    "                print(f\"数据变换失败: {str(e)}\")\n",
    "                raise ValueError(f\"数据变换失败: {str(e)}\")\n",
    "        \n",
    "        return image, row['label']\n",
    "\n",
    "# 数据增强\n",
    "def get_transforms(mode='train'):\n",
    "    if mode == 'train':\n",
    "        return A.Compose([\n",
    "            A.Resize(256, 256),\n",
    "            A.RandomCrop(224, 224),\n",
    "            A.HorizontalFlip(p=0.5),\n",
    "            A.RandomBrightnessContrast(brightness_limit=0.2, contrast_limit=0.2, p=0.3),\n",
    "            A.RandomRotate90(p=0.3),\n",
    "            A.Normalize(mean=[0.485, 0.456, 0.406], std=[0.229, 0.224, 0.225]),\n",
    "            ToTensorV2()\n",
    "        ])\n",
    "    else:\n",
    "        return A.Compose([\n",
    "            A.Resize(224, 224),\n",
    "            A.Normalize(mean=[0.485, 0.456, 0.406], std=[0.229, 0.224, 0.225]),\n",
    "            ToTensorV2()\n",
    "        ])"
   ]
  },
  {
   "cell_type": "markdown",
   "id": "b3253c25",
   "metadata": {},
   "source": [
    "## 3. 数据加载器创建"
   ]
  },
  {
   "cell_type": "code",
   "execution_count": 3,
   "id": "2905a29e",
   "metadata": {},
   "outputs": [
    {
     "name": "stdout",
     "output_type": "stream",
     "text": [
      "训练集大小: 15557\n",
      "测试集大小: 4002\n",
      "\n",
      "前3行训练数据:\n",
      "                                          image_path                 category  \\\n",
      "0  DermNet/train/Acne and Rosacea Photos/07Acne08...  Acne and Rosacea Photos   \n",
      "1  DermNet/train/Acne and Rosacea Photos/07AcnePi...  Acne and Rosacea Photos   \n",
      "2  DermNet/train/Acne and Rosacea Photos/07AcnePi...  Acne and Rosacea Photos   \n",
      "\n",
      "  dataset_type  label  \n",
      "0        train      0  \n",
      "1        train      0  \n",
      "2        train      0  \n",
      "\n",
      "检查前3个文件是否存在:\n",
      "  1. DermNet/train/Acne and Rosacea Photos/07Acne081101.jpg - 存在\n",
      "  2. DermNet/train/Acne and Rosacea Photos/07AcnePittedScars.jpg - 存在\n",
      "  3. DermNet/train/Acne and Rosacea Photos/07AcnePittedScars1.jpg - 存在\n",
      "\n",
      "创建数据集...\n",
      "数据集初始化完成，包含 15557 个样本\n",
      "数据集初始化完成，包含 4002 个样本\n",
      "\n",
      "测试单个样本加载...\n",
      "单个样本测试成功: 图像形状 torch.Size([3, 224, 224]), 标签 0\n",
      "\n",
      "创建数据加载器...\n",
      "训练批次数: 973\n",
      "测试批次数: 251\n"
     ]
    }
   ],
   "source": [
    "# 加载数据\n",
    "train_df = pd.read_csv('processed_data/train.csv')\n",
    "test_df = pd.read_csv('processed_data/test.csv')\n",
    "\n",
    "print(f\"训练集大小: {len(train_df)}\")\n",
    "print(f\"测试集大小: {len(test_df)}\")\n",
    "\n",
    "# 先检查前几行数据的路径\n",
    "print(\"\\n前3行训练数据:\")\n",
    "print(train_df.head(3))\n",
    "\n",
    "# 检查路径是否存在\n",
    "print(f\"\\n检查前3个文件是否存在:\")\n",
    "for i in range(min(3, len(train_df))):\n",
    "    path = train_df.iloc[i]['image_path']\n",
    "    exists = os.path.exists(path)\n",
    "    print(f\"  {i+1}. {path} - {'存在' if exists else '不存在'}\")\n",
    "\n",
    "print(\"\\n创建数据集...\")\n",
    "# 创建数据集\n",
    "train_dataset = DermNetDataset(train_df, transform=get_transforms('train'))\n",
    "test_dataset = DermNetDataset(test_df, transform=get_transforms('test'))\n",
    "\n",
    "print(\"\\n测试单个样本加载...\")\n",
    "try:\n",
    "    sample_image, sample_label = train_dataset[0]\n",
    "    print(f\"单个样本测试成功: 图像形状 {sample_image.shape}, 标签 {sample_label}\")\n",
    "except Exception as e:\n",
    "    print(f\"单个样本测试失败: {str(e)}\")\n",
    "    import traceback\n",
    "    traceback.print_exc()\n",
    "\n",
    "# 只有单个样本成功后才创建数据加载器\n",
    "print(\"\\n创建数据加载器...\")\n",
    "batch_size = 16  # 减小批次大小\n",
    "train_loader = DataLoader(train_dataset, batch_size=batch_size, shuffle=True, num_workers=0, pin_memory=False)\n",
    "test_loader = DataLoader(test_dataset, batch_size=batch_size, shuffle=False, num_workers=0, pin_memory=False)\n",
    "\n",
    "print(f\"训练批次数: {len(train_loader)}\")\n",
    "print(f\"测试批次数: {len(test_loader)}\")"
   ]
  },
  {
   "cell_type": "markdown",
   "id": "58f2845e",
   "metadata": {},
   "source": [
    "## 4. 模型初始化"
   ]
  },
  {
   "cell_type": "code",
   "execution_count": 4,
   "id": "eba5e0b9",
   "metadata": {},
   "outputs": [
    {
     "name": "stderr",
     "output_type": "stream",
     "text": [
      "d:\\Anaconda\\envs\\capstone\\Lib\\site-packages\\torchvision\\models\\_utils.py:208: UserWarning: The parameter 'pretrained' is deprecated since 0.13 and may be removed in the future, please use 'weights' instead.\n",
      "  warnings.warn(\n",
      "d:\\Anaconda\\envs\\capstone\\Lib\\site-packages\\torchvision\\models\\_utils.py:223: UserWarning: Arguments other than a weight enum or `None` for 'weights' are deprecated since 0.13 and may be removed in the future. The current behavior is equivalent to passing `weights=VGG19_Weights.IMAGENET1K_V1`. You can also use `weights=VGG19_Weights.DEFAULT` to get the most up-to-date weights.\n",
      "  warnings.warn(msg)\n"
     ]
    },
    {
     "name": "stdout",
     "output_type": "stream",
     "text": [
      "✓ 成功加载ImageNet预训练权重: 32 层\n",
      "模型初始化完成\n",
      "模型参数量: 73,528,407\n",
      "可训练参数量: 73,528,407\n",
      "学习率: 0.0001\n",
      "使用预训练权重: 是\n",
      "类别权重范围: 0.484 ~ 3.209\n"
     ]
    }
   ],
   "source": [
    "# 创建模型\n",
    "model = VGG19(num_classes=num_classes, dropout_rate=0.5).to(device)\n",
    "\n",
    "# 可选：加载预训练权重（推荐用于医学图像）\n",
    "use_pretrained = True  # 设置为True使用ImageNet预训练权重\n",
    "\n",
    "if use_pretrained:\n",
    "    import torchvision.models as models\n",
    "    try:\n",
    "        # 加载预训练VGG19\n",
    "        pretrained_vgg = models.vgg19(pretrained=True)\n",
    "        \n",
    "        # 获取模型状态字典\n",
    "        model_dict = model.state_dict()\n",
    "        pretrained_dict = pretrained_vgg.state_dict()\n",
    "        \n",
    "        # 只保留特征提取层的权重\n",
    "        pretrained_dict = {k: v for k, v in pretrained_dict.items() \n",
    "                          if k.startswith('features.') and k in model_dict}\n",
    "        \n",
    "        # 更新模型权重\n",
    "        model_dict.update(pretrained_dict)\n",
    "        model.load_state_dict(model_dict)\n",
    "        \n",
    "        print(f\"✓ 成功加载ImageNet预训练权重: {len(pretrained_dict)} 层\")\n",
    "        \n",
    "        # 可选：冻结特征提取层，只训练分类器\n",
    "        freeze_features = False  # 设置为True冻结特征提取层\n",
    "        if freeze_features:\n",
    "            for name, param in model.named_parameters():\n",
    "                if name.startswith('features.'):\n",
    "                    param.requires_grad = False\n",
    "            print(\"✓ 特征提取层已冻结\")\n",
    "            \n",
    "    except Exception as e:\n",
    "        print(f\"预训练权重加载失败: {e}\")\n",
    "        print(\"使用随机初始化权重\")\n",
    "\n",
    "# 损失函数（使用类别权重）\n",
    "class_weights = torch.tensor([class_weights_dict[str(i)] for i in range(num_classes)], dtype=torch.float32).to(device)\n",
    "criterion = nn.CrossEntropyLoss(weight=class_weights)\n",
    "\n",
    "# 优化器 - 如果使用预训练权重，使用较小的学习率\n",
    "learning_rate = 0.0001 if use_pretrained else 0.001\n",
    "optimizer = optim.Adam(model.parameters(), lr=learning_rate, weight_decay=1e-4)\n",
    "\n",
    "# 学习率调度器\n",
    "scheduler = ReduceLROnPlateau(optimizer, mode='min', factor=0.5, patience=3)\n",
    "\n",
    "print(\"模型初始化完成\")\n",
    "print(f\"模型参数量: {sum(p.numel() for p in model.parameters()):,}\")\n",
    "print(f\"可训练参数量: {sum(p.numel() for p in model.parameters() if p.requires_grad):,}\")\n",
    "print(f\"学习率: {learning_rate}\")\n",
    "print(f\"使用预训练权重: {'是' if use_pretrained else '否'}\")\n",
    "print(f\"类别权重范围: {class_weights.min():.3f} ~ {class_weights.max():.3f}\")"
   ]
  },
  {
   "cell_type": "markdown",
   "id": "a8a119b8",
   "metadata": {},
   "source": [
    "## 5. 训练函数"
   ]
  },
  {
   "cell_type": "code",
   "execution_count": 5,
   "id": "7d6c6ce5",
   "metadata": {},
   "outputs": [],
   "source": [
    "def train_epoch(model, dataloader, criterion, optimizer, device):\n",
    "    model.train()\n",
    "    running_loss = 0.0\n",
    "    correct = 0\n",
    "    total = 0\n",
    "    \n",
    "    pbar = tqdm(dataloader, desc='训练中')\n",
    "    for images, labels in pbar:\n",
    "        images, labels = images.to(device), labels.to(device)\n",
    "        \n",
    "        optimizer.zero_grad()\n",
    "        outputs = model(images)\n",
    "        loss = criterion(outputs, labels)\n",
    "        loss.backward()\n",
    "        optimizer.step()\n",
    "        \n",
    "        running_loss += loss.item()\n",
    "        _, predicted = torch.max(outputs.data, 1)\n",
    "        total += labels.size(0)\n",
    "        correct += (predicted == labels).sum().item()\n",
    "        \n",
    "        # 更新进度条\n",
    "        pbar.set_postfix({\n",
    "            'Loss': f'{running_loss/len(pbar):.4f}',\n",
    "            'Acc': f'{100.*correct/total:.2f}%'\n",
    "        })\n",
    "    \n",
    "    epoch_loss = running_loss / len(dataloader)\n",
    "    epoch_acc = 100. * correct / total\n",
    "    return epoch_loss, epoch_acc\n",
    "\n",
    "def validate_epoch(model, dataloader, criterion, device):\n",
    "    model.eval()\n",
    "    running_loss = 0.0\n",
    "    correct = 0\n",
    "    total = 0\n",
    "    all_preds = []\n",
    "    all_labels = []\n",
    "    \n",
    "    with torch.no_grad():\n",
    "        pbar = tqdm(dataloader, desc='验证中')\n",
    "        for images, labels in pbar:\n",
    "            images, labels = images.to(device), labels.to(device)\n",
    "            \n",
    "            outputs = model(images)\n",
    "            loss = criterion(outputs, labels)\n",
    "            \n",
    "            running_loss += loss.item()\n",
    "            _, predicted = torch.max(outputs.data, 1)\n",
    "            total += labels.size(0)\n",
    "            correct += (predicted == labels).sum().item()\n",
    "            \n",
    "            all_preds.extend(predicted.cpu().numpy())\n",
    "            all_labels.extend(labels.cpu().numpy())\n",
    "            \n",
    "            pbar.set_postfix({\n",
    "                'Loss': f'{running_loss/len(pbar):.4f}',\n",
    "                'Acc': f'{100.*correct/total:.2f}%'\n",
    "            })\n",
    "    \n",
    "    epoch_loss = running_loss / len(dataloader)\n",
    "    epoch_acc = 100. * correct / total\n",
    "    return epoch_loss, epoch_acc, all_preds, all_labels"
   ]
  },
  {
   "cell_type": "markdown",
   "id": "4c344117",
   "metadata": {},
   "source": [
    "## 6. 模型训练"
   ]
  },
  {
   "cell_type": "code",
   "execution_count": 6,
   "id": "513148da",
   "metadata": {},
   "outputs": [
    {
     "name": "stdout",
     "output_type": "stream",
     "text": [
      "开始训练...\n",
      "\n",
      "Epoch 1/300\n",
      "--------------------------------------------------\n"
     ]
    },
    {
     "name": "stderr",
     "output_type": "stream",
     "text": [
      "训练中: 100%|██████████| 973/973 [04:40<00:00,  3.47it/s, Loss=3.0563, Acc=10.06%]\n",
      "验证中: 100%|██████████| 251/251 [00:29<00:00,  8.65it/s, Loss=2.9008, Acc=15.67%]\n"
     ]
    },
    {
     "name": "stdout",
     "output_type": "stream",
     "text": [
      "✓ 保存最佳模型 (验证损失: 2.9008, 验证准确率: 15.67%)\n",
      "\n",
      "Epoch 2/300\n",
      "--------------------------------------------------\n"
     ]
    },
    {
     "name": "stderr",
     "output_type": "stream",
     "text": [
      "训练中: 100%|██████████| 973/973 [04:40<00:00,  3.47it/s, Loss=2.8951, Acc=13.76%]\n",
      "验证中: 100%|██████████| 251/251 [00:26<00:00,  9.35it/s, Loss=2.7470, Acc=20.16%]\n"
     ]
    },
    {
     "name": "stdout",
     "output_type": "stream",
     "text": [
      "✓ 保存最佳模型 (验证损失: 2.7470, 验证准确率: 20.16%)\n",
      "\n",
      "Epoch 3/300\n",
      "--------------------------------------------------\n"
     ]
    },
    {
     "name": "stderr",
     "output_type": "stream",
     "text": [
      "训练中: 100%|██████████| 973/973 [04:31<00:00,  3.59it/s, Loss=2.7762, Acc=17.35%]\n",
      "验证中: 100%|██████████| 251/251 [00:26<00:00,  9.38it/s, Loss=2.7607, Acc=17.57%]\n"
     ]
    },
    {
     "name": "stdout",
     "output_type": "stream",
     "text": [
      "\n",
      "Epoch 4/300\n",
      "--------------------------------------------------\n"
     ]
    },
    {
     "name": "stderr",
     "output_type": "stream",
     "text": [
      "训练中: 100%|██████████| 973/973 [04:33<00:00,  3.56it/s, Loss=2.6744, Acc=20.07%]\n",
      "验证中: 100%|██████████| 251/251 [00:26<00:00,  9.36it/s, Loss=2.6035, Acc=23.96%]\n"
     ]
    },
    {
     "name": "stdout",
     "output_type": "stream",
     "text": [
      "✓ 保存最佳模型 (验证损失: 2.6035, 验证准确率: 23.96%)\n",
      "\n",
      "Epoch 5/300\n",
      "--------------------------------------------------\n"
     ]
    },
    {
     "name": "stderr",
     "output_type": "stream",
     "text": [
      "训练中: 100%|██████████| 973/973 [04:30<00:00,  3.59it/s, Loss=2.5776, Acc=22.54%]\n",
      "验证中: 100%|██████████| 251/251 [00:26<00:00,  9.38it/s, Loss=2.4536, Acc=27.49%]\n"
     ]
    },
    {
     "name": "stdout",
     "output_type": "stream",
     "text": [
      "✓ 保存最佳模型 (验证损失: 2.4536, 验证准确率: 27.49%)\n",
      "\n",
      "Epoch 6/300\n",
      "--------------------------------------------------\n"
     ]
    },
    {
     "name": "stderr",
     "output_type": "stream",
     "text": [
      "训练中: 100%|██████████| 973/973 [04:32<00:00,  3.57it/s, Loss=2.4870, Acc=25.10%]\n",
      "验证中: 100%|██████████| 251/251 [00:26<00:00,  9.31it/s, Loss=2.4526, Acc=25.74%]\n"
     ]
    },
    {
     "name": "stdout",
     "output_type": "stream",
     "text": [
      "✓ 保存最佳模型 (验证损失: 2.4526, 验证准确率: 25.74%)\n",
      "\n",
      "Epoch 7/300\n",
      "--------------------------------------------------\n"
     ]
    },
    {
     "name": "stderr",
     "output_type": "stream",
     "text": [
      "训练中: 100%|██████████| 973/973 [04:31<00:00,  3.58it/s, Loss=2.4007, Acc=27.51%]\n",
      "验证中: 100%|██████████| 251/251 [00:26<00:00,  9.32it/s, Loss=2.3771, Acc=29.09%]\n"
     ]
    },
    {
     "name": "stdout",
     "output_type": "stream",
     "text": [
      "✓ 保存最佳模型 (验证损失: 2.3771, 验证准确率: 29.09%)\n",
      "\n",
      "Epoch 8/300\n",
      "--------------------------------------------------\n"
     ]
    },
    {
     "name": "stderr",
     "output_type": "stream",
     "text": [
      "训练中: 100%|██████████| 973/973 [04:32<00:00,  3.57it/s, Loss=2.3312, Acc=29.56%]\n",
      "验证中: 100%|██████████| 251/251 [00:27<00:00,  9.20it/s, Loss=2.4100, Acc=29.56%]\n"
     ]
    },
    {
     "name": "stdout",
     "output_type": "stream",
     "text": [
      "\n",
      "Epoch 9/300\n",
      "--------------------------------------------------\n"
     ]
    },
    {
     "name": "stderr",
     "output_type": "stream",
     "text": [
      "训练中: 100%|██████████| 973/973 [04:33<00:00,  3.56it/s, Loss=2.2677, Acc=31.43%]\n",
      "验证中: 100%|██████████| 251/251 [00:26<00:00,  9.36it/s, Loss=2.3217, Acc=29.99%]\n"
     ]
    },
    {
     "name": "stdout",
     "output_type": "stream",
     "text": [
      "✓ 保存最佳模型 (验证损失: 2.3217, 验证准确率: 29.99%)\n",
      "\n",
      "Epoch 10/300\n",
      "--------------------------------------------------\n"
     ]
    },
    {
     "name": "stderr",
     "output_type": "stream",
     "text": [
      "训练中: 100%|██████████| 973/973 [04:33<00:00,  3.56it/s, Loss=2.2121, Acc=32.63%]\n",
      "验证中: 100%|██████████| 251/251 [00:26<00:00,  9.32it/s, Loss=2.2490, Acc=32.68%]\n"
     ]
    },
    {
     "name": "stdout",
     "output_type": "stream",
     "text": [
      "✓ 保存最佳模型 (验证损失: 2.2490, 验证准确率: 32.68%)\n",
      "\n",
      "Epoch 11/300\n",
      "--------------------------------------------------\n"
     ]
    },
    {
     "name": "stderr",
     "output_type": "stream",
     "text": [
      "训练中: 100%|██████████| 973/973 [04:31<00:00,  3.59it/s, Loss=2.1490, Acc=34.15%]\n",
      "验证中: 100%|██████████| 251/251 [00:26<00:00,  9.38it/s, Loss=2.2454, Acc=32.86%]\n"
     ]
    },
    {
     "name": "stdout",
     "output_type": "stream",
     "text": [
      "✓ 保存最佳模型 (验证损失: 2.2454, 验证准确率: 32.86%)\n",
      "\n",
      "Epoch 12/300\n",
      "--------------------------------------------------\n"
     ]
    },
    {
     "name": "stderr",
     "output_type": "stream",
     "text": [
      "训练中: 100%|██████████| 973/973 [04:33<00:00,  3.56it/s, Loss=2.1080, Acc=34.66%]\n",
      "验证中: 100%|██████████| 251/251 [00:27<00:00,  9.29it/s, Loss=2.1150, Acc=36.66%]\n"
     ]
    },
    {
     "name": "stdout",
     "output_type": "stream",
     "text": [
      "✓ 保存最佳模型 (验证损失: 2.1150, 验证准确率: 36.66%)\n",
      "\n",
      "Epoch 13/300\n",
      "--------------------------------------------------\n"
     ]
    },
    {
     "name": "stderr",
     "output_type": "stream",
     "text": [
      "训练中: 100%|██████████| 973/973 [04:32<00:00,  3.57it/s, Loss=2.0426, Acc=36.77%]\n",
      "验证中: 100%|██████████| 251/251 [00:26<00:00,  9.37it/s, Loss=2.2054, Acc=35.23%]\n"
     ]
    },
    {
     "name": "stdout",
     "output_type": "stream",
     "text": [
      "\n",
      "Epoch 14/300\n",
      "--------------------------------------------------\n"
     ]
    },
    {
     "name": "stderr",
     "output_type": "stream",
     "text": [
      "训练中: 100%|██████████| 973/973 [04:32<00:00,  3.57it/s, Loss=1.9733, Acc=38.61%]\n",
      "验证中: 100%|██████████| 251/251 [00:26<00:00,  9.38it/s, Loss=2.1005, Acc=37.23%]\n"
     ]
    },
    {
     "name": "stdout",
     "output_type": "stream",
     "text": [
      "✓ 保存最佳模型 (验证损失: 2.1005, 验证准确率: 37.23%)\n",
      "\n",
      "Epoch 15/300\n",
      "--------------------------------------------------\n"
     ]
    },
    {
     "name": "stderr",
     "output_type": "stream",
     "text": [
      "训练中: 100%|██████████| 973/973 [04:32<00:00,  3.57it/s, Loss=1.9197, Acc=39.74%]\n",
      "验证中: 100%|██████████| 251/251 [00:26<00:00,  9.42it/s, Loss=2.1749, Acc=34.96%]\n"
     ]
    },
    {
     "name": "stdout",
     "output_type": "stream",
     "text": [
      "\n",
      "Epoch 16/300\n",
      "--------------------------------------------------\n"
     ]
    },
    {
     "name": "stderr",
     "output_type": "stream",
     "text": [
      "训练中: 100%|██████████| 973/973 [04:32<00:00,  3.57it/s, Loss=1.8746, Acc=40.86%]\n",
      "验证中: 100%|██████████| 251/251 [00:26<00:00,  9.36it/s, Loss=2.0494, Acc=38.31%]\n"
     ]
    },
    {
     "name": "stdout",
     "output_type": "stream",
     "text": [
      "✓ 保存最佳模型 (验证损失: 2.0494, 验证准确率: 38.31%)\n",
      "\n",
      "Epoch 17/300\n",
      "--------------------------------------------------\n"
     ]
    },
    {
     "name": "stderr",
     "output_type": "stream",
     "text": [
      "训练中: 100%|██████████| 973/973 [04:32<00:00,  3.57it/s, Loss=1.8220, Acc=42.68%]\n",
      "验证中: 100%|██████████| 251/251 [00:26<00:00,  9.33it/s, Loss=2.0091, Acc=39.63%]\n"
     ]
    },
    {
     "name": "stdout",
     "output_type": "stream",
     "text": [
      "✓ 保存最佳模型 (验证损失: 2.0091, 验证准确率: 39.63%)\n",
      "\n",
      "Epoch 18/300\n",
      "--------------------------------------------------\n"
     ]
    },
    {
     "name": "stderr",
     "output_type": "stream",
     "text": [
      "训练中: 100%|██████████| 973/973 [04:32<00:00,  3.57it/s, Loss=1.7748, Acc=43.18%]\n",
      "验证中: 100%|██████████| 251/251 [00:26<00:00,  9.35it/s, Loss=2.0387, Acc=39.03%]\n"
     ]
    },
    {
     "name": "stdout",
     "output_type": "stream",
     "text": [
      "\n",
      "Epoch 19/300\n",
      "--------------------------------------------------\n"
     ]
    },
    {
     "name": "stderr",
     "output_type": "stream",
     "text": [
      "训练中: 100%|██████████| 973/973 [04:32<00:00,  3.57it/s, Loss=1.7169, Acc=44.73%]\n",
      "验证中: 100%|██████████| 251/251 [00:26<00:00,  9.37it/s, Loss=1.9968, Acc=39.88%]\n"
     ]
    },
    {
     "name": "stdout",
     "output_type": "stream",
     "text": [
      "✓ 保存最佳模型 (验证损失: 1.9968, 验证准确率: 39.88%)\n",
      "\n",
      "Epoch 20/300\n",
      "--------------------------------------------------\n"
     ]
    },
    {
     "name": "stderr",
     "output_type": "stream",
     "text": [
      "训练中: 100%|██████████| 973/973 [04:32<00:00,  3.58it/s, Loss=1.6758, Acc=46.01%]\n",
      "验证中: 100%|██████████| 251/251 [00:27<00:00,  9.30it/s, Loss=2.0225, Acc=39.91%]\n"
     ]
    },
    {
     "name": "stdout",
     "output_type": "stream",
     "text": [
      "\n",
      "Epoch 21/300\n",
      "--------------------------------------------------\n"
     ]
    },
    {
     "name": "stderr",
     "output_type": "stream",
     "text": [
      "训练中: 100%|██████████| 973/973 [04:33<00:00,  3.56it/s, Loss=1.6278, Acc=47.52%]\n",
      "验证中: 100%|██████████| 251/251 [00:26<00:00,  9.36it/s, Loss=1.9551, Acc=41.75%]\n"
     ]
    },
    {
     "name": "stdout",
     "output_type": "stream",
     "text": [
      "✓ 保存最佳模型 (验证损失: 1.9551, 验证准确率: 41.75%)\n",
      "\n",
      "Epoch 22/300\n",
      "--------------------------------------------------\n"
     ]
    },
    {
     "name": "stderr",
     "output_type": "stream",
     "text": [
      "训练中: 100%|██████████| 973/973 [04:32<00:00,  3.57it/s, Loss=1.5945, Acc=48.17%]\n",
      "验证中: 100%|██████████| 251/251 [00:26<00:00,  9.37it/s, Loss=1.9739, Acc=40.80%]\n"
     ]
    },
    {
     "name": "stdout",
     "output_type": "stream",
     "text": [
      "\n",
      "Epoch 23/300\n",
      "--------------------------------------------------\n"
     ]
    },
    {
     "name": "stderr",
     "output_type": "stream",
     "text": [
      "训练中: 100%|██████████| 973/973 [04:31<00:00,  3.59it/s, Loss=1.5692, Acc=48.78%]\n",
      "验证中: 100%|██████████| 251/251 [00:26<00:00,  9.37it/s, Loss=1.9548, Acc=42.13%]\n"
     ]
    },
    {
     "name": "stdout",
     "output_type": "stream",
     "text": [
      "✓ 保存最佳模型 (验证损失: 1.9548, 验证准确率: 42.13%)\n",
      "\n",
      "Epoch 24/300\n",
      "--------------------------------------------------\n"
     ]
    },
    {
     "name": "stderr",
     "output_type": "stream",
     "text": [
      "训练中: 100%|██████████| 973/973 [04:33<00:00,  3.56it/s, Loss=1.5252, Acc=49.84%]\n",
      "验证中: 100%|██████████| 251/251 [00:26<00:00,  9.30it/s, Loss=1.9107, Acc=43.30%]\n"
     ]
    },
    {
     "name": "stdout",
     "output_type": "stream",
     "text": [
      "✓ 保存最佳模型 (验证损失: 1.9107, 验证准确率: 43.30%)\n",
      "\n",
      "Epoch 25/300\n",
      "--------------------------------------------------\n"
     ]
    },
    {
     "name": "stderr",
     "output_type": "stream",
     "text": [
      "训练中: 100%|██████████| 973/973 [04:31<00:00,  3.58it/s, Loss=1.4777, Acc=51.13%]\n",
      "验证中: 100%|██████████| 251/251 [00:26<00:00,  9.38it/s, Loss=1.9488, Acc=42.38%]\n"
     ]
    },
    {
     "name": "stdout",
     "output_type": "stream",
     "text": [
      "\n",
      "Epoch 26/300\n",
      "--------------------------------------------------\n"
     ]
    },
    {
     "name": "stderr",
     "output_type": "stream",
     "text": [
      "训练中: 100%|██████████| 973/973 [04:31<00:00,  3.59it/s, Loss=1.4224, Acc=52.48%]\n",
      "验证中: 100%|██████████| 251/251 [00:26<00:00,  9.36it/s, Loss=1.9700, Acc=44.23%]\n"
     ]
    },
    {
     "name": "stdout",
     "output_type": "stream",
     "text": [
      "\n",
      "Epoch 27/300\n",
      "--------------------------------------------------\n"
     ]
    },
    {
     "name": "stderr",
     "output_type": "stream",
     "text": [
      "训练中: 100%|██████████| 973/973 [04:31<00:00,  3.59it/s, Loss=1.4100, Acc=52.35%]\n",
      "验证中: 100%|██████████| 251/251 [00:26<00:00,  9.46it/s, Loss=1.9724, Acc=42.45%]\n"
     ]
    },
    {
     "name": "stdout",
     "output_type": "stream",
     "text": [
      "\n",
      "Epoch 28/300\n",
      "--------------------------------------------------\n"
     ]
    },
    {
     "name": "stderr",
     "output_type": "stream",
     "text": [
      "训练中: 100%|██████████| 973/973 [04:30<00:00,  3.59it/s, Loss=1.3579, Acc=54.43%]\n",
      "验证中: 100%|██████████| 251/251 [00:26<00:00,  9.36it/s, Loss=1.8633, Acc=45.68%]\n"
     ]
    },
    {
     "name": "stdout",
     "output_type": "stream",
     "text": [
      "✓ 保存最佳模型 (验证损失: 1.8633, 验证准确率: 45.68%)\n",
      "\n",
      "Epoch 29/300\n",
      "--------------------------------------------------\n"
     ]
    },
    {
     "name": "stderr",
     "output_type": "stream",
     "text": [
      "训练中: 100%|██████████| 973/973 [04:32<00:00,  3.57it/s, Loss=1.3454, Acc=55.00%]\n",
      "验证中: 100%|██████████| 251/251 [00:26<00:00,  9.31it/s, Loss=1.8325, Acc=46.25%]\n"
     ]
    },
    {
     "name": "stdout",
     "output_type": "stream",
     "text": [
      "✓ 保存最佳模型 (验证损失: 1.8325, 验证准确率: 46.25%)\n",
      "\n",
      "Epoch 30/300\n",
      "--------------------------------------------------\n"
     ]
    },
    {
     "name": "stderr",
     "output_type": "stream",
     "text": [
      "训练中: 100%|██████████| 973/973 [04:32<00:00,  3.58it/s, Loss=1.2954, Acc=55.96%]\n",
      "验证中: 100%|██████████| 251/251 [00:26<00:00,  9.33it/s, Loss=1.8836, Acc=44.78%]\n"
     ]
    },
    {
     "name": "stdout",
     "output_type": "stream",
     "text": [
      "\n",
      "Epoch 31/300\n",
      "--------------------------------------------------\n"
     ]
    },
    {
     "name": "stderr",
     "output_type": "stream",
     "text": [
      "训练中: 100%|██████████| 973/973 [04:32<00:00,  3.57it/s, Loss=1.2720, Acc=56.75%]\n",
      "验证中: 100%|██████████| 251/251 [00:26<00:00,  9.31it/s, Loss=1.8776, Acc=45.90%]\n"
     ]
    },
    {
     "name": "stdout",
     "output_type": "stream",
     "text": [
      "\n",
      "Epoch 32/300\n",
      "--------------------------------------------------\n"
     ]
    },
    {
     "name": "stderr",
     "output_type": "stream",
     "text": [
      "训练中: 100%|██████████| 973/973 [04:32<00:00,  3.58it/s, Loss=1.2431, Acc=57.39%]\n",
      "验证中: 100%|██████████| 251/251 [00:26<00:00,  9.33it/s, Loss=1.8868, Acc=46.40%]\n"
     ]
    },
    {
     "name": "stdout",
     "output_type": "stream",
     "text": [
      "\n",
      "Epoch 33/300\n",
      "--------------------------------------------------\n"
     ]
    },
    {
     "name": "stderr",
     "output_type": "stream",
     "text": [
      "训练中: 100%|██████████| 973/973 [04:32<00:00,  3.57it/s, Loss=1.2023, Acc=58.86%]\n",
      "验证中: 100%|██████████| 251/251 [00:26<00:00,  9.37it/s, Loss=1.8090, Acc=48.43%]\n"
     ]
    },
    {
     "name": "stdout",
     "output_type": "stream",
     "text": [
      "✓ 保存最佳模型 (验证损失: 1.8090, 验证准确率: 48.43%)\n",
      "\n",
      "Epoch 34/300\n",
      "--------------------------------------------------\n"
     ]
    },
    {
     "name": "stderr",
     "output_type": "stream",
     "text": [
      "训练中: 100%|██████████| 973/973 [04:32<00:00,  3.57it/s, Loss=1.1929, Acc=58.46%]\n",
      "验证中: 100%|██████████| 251/251 [00:26<00:00,  9.31it/s, Loss=1.9005, Acc=45.85%]\n"
     ]
    },
    {
     "name": "stdout",
     "output_type": "stream",
     "text": [
      "\n",
      "Epoch 35/300\n",
      "--------------------------------------------------\n"
     ]
    },
    {
     "name": "stderr",
     "output_type": "stream",
     "text": [
      "训练中: 100%|██████████| 973/973 [04:32<00:00,  3.57it/s, Loss=1.1596, Acc=59.46%]\n",
      "验证中: 100%|██████████| 251/251 [00:26<00:00,  9.33it/s, Loss=1.7928, Acc=48.73%]\n"
     ]
    },
    {
     "name": "stdout",
     "output_type": "stream",
     "text": [
      "✓ 保存最佳模型 (验证损失: 1.7928, 验证准确率: 48.73%)\n",
      "\n",
      "Epoch 36/300\n",
      "--------------------------------------------------\n"
     ]
    },
    {
     "name": "stderr",
     "output_type": "stream",
     "text": [
      "训练中: 100%|██████████| 973/973 [04:32<00:00,  3.57it/s, Loss=1.1355, Acc=60.82%]\n",
      "验证中: 100%|██████████| 251/251 [00:26<00:00,  9.37it/s, Loss=1.8306, Acc=47.55%]\n"
     ]
    },
    {
     "name": "stdout",
     "output_type": "stream",
     "text": [
      "\n",
      "Epoch 37/300\n",
      "--------------------------------------------------\n"
     ]
    },
    {
     "name": "stderr",
     "output_type": "stream",
     "text": [
      "训练中: 100%|██████████| 973/973 [04:32<00:00,  3.58it/s, Loss=1.1007, Acc=61.41%]\n",
      "验证中: 100%|██████████| 251/251 [00:26<00:00,  9.33it/s, Loss=1.7978, Acc=47.95%]\n"
     ]
    },
    {
     "name": "stdout",
     "output_type": "stream",
     "text": [
      "\n",
      "Epoch 38/300\n",
      "--------------------------------------------------\n"
     ]
    },
    {
     "name": "stderr",
     "output_type": "stream",
     "text": [
      "训练中: 100%|██████████| 973/973 [04:32<00:00,  3.57it/s, Loss=1.0805, Acc=62.54%]\n",
      "验证中: 100%|██████████| 251/251 [00:26<00:00,  9.32it/s, Loss=1.8798, Acc=47.43%]\n"
     ]
    },
    {
     "name": "stdout",
     "output_type": "stream",
     "text": [
      "\n",
      "Epoch 39/300\n",
      "--------------------------------------------------\n"
     ]
    },
    {
     "name": "stderr",
     "output_type": "stream",
     "text": [
      "训练中: 100%|██████████| 973/973 [04:33<00:00,  3.56it/s, Loss=1.0711, Acc=62.99%]\n",
      "验证中: 100%|██████████| 251/251 [00:26<00:00,  9.35it/s, Loss=1.8131, Acc=47.20%]\n"
     ]
    },
    {
     "name": "stdout",
     "output_type": "stream",
     "text": [
      "\n",
      "Epoch 40/300\n",
      "--------------------------------------------------\n"
     ]
    },
    {
     "name": "stderr",
     "output_type": "stream",
     "text": [
      "训练中: 100%|██████████| 973/973 [04:31<00:00,  3.59it/s, Loss=0.8772, Acc=69.08%]\n",
      "验证中: 100%|██████████| 251/251 [00:26<00:00,  9.35it/s, Loss=1.7253, Acc=53.47%]\n"
     ]
    },
    {
     "name": "stdout",
     "output_type": "stream",
     "text": [
      "✓ 保存最佳模型 (验证损失: 1.7253, 验证准确率: 53.47%)\n",
      "\n",
      "Epoch 41/300\n",
      "--------------------------------------------------\n"
     ]
    },
    {
     "name": "stderr",
     "output_type": "stream",
     "text": [
      "训练中: 100%|██████████| 973/973 [04:32<00:00,  3.57it/s, Loss=0.8064, Acc=70.49%]\n",
      "验证中: 100%|██████████| 251/251 [00:26<00:00,  9.32it/s, Loss=1.6962, Acc=53.82%]\n"
     ]
    },
    {
     "name": "stdout",
     "output_type": "stream",
     "text": [
      "✓ 保存最佳模型 (验证损失: 1.6962, 验证准确率: 53.82%)\n",
      "\n",
      "Epoch 42/300\n",
      "--------------------------------------------------\n"
     ]
    },
    {
     "name": "stderr",
     "output_type": "stream",
     "text": [
      "训练中: 100%|██████████| 973/973 [04:32<00:00,  3.57it/s, Loss=0.7876, Acc=71.38%]\n",
      "验证中: 100%|██████████| 251/251 [00:26<00:00,  9.30it/s, Loss=1.7038, Acc=53.27%]\n"
     ]
    },
    {
     "name": "stdout",
     "output_type": "stream",
     "text": [
      "\n",
      "Epoch 43/300\n",
      "--------------------------------------------------\n"
     ]
    },
    {
     "name": "stderr",
     "output_type": "stream",
     "text": [
      "训练中: 100%|██████████| 973/973 [04:32<00:00,  3.57it/s, Loss=0.7584, Acc=72.49%]\n",
      "验证中: 100%|██████████| 251/251 [00:26<00:00,  9.31it/s, Loss=1.7243, Acc=53.72%]\n"
     ]
    },
    {
     "name": "stdout",
     "output_type": "stream",
     "text": [
      "\n",
      "Epoch 44/300\n",
      "--------------------------------------------------\n"
     ]
    },
    {
     "name": "stderr",
     "output_type": "stream",
     "text": [
      "训练中: 100%|██████████| 973/973 [04:33<00:00,  3.56it/s, Loss=0.7584, Acc=72.64%]\n",
      "验证中: 100%|██████████| 251/251 [00:27<00:00,  9.29it/s, Loss=1.7476, Acc=53.50%]\n"
     ]
    },
    {
     "name": "stdout",
     "output_type": "stream",
     "text": [
      "\n",
      "Epoch 45/300\n",
      "--------------------------------------------------\n"
     ]
    },
    {
     "name": "stderr",
     "output_type": "stream",
     "text": [
      "训练中: 100%|██████████| 973/973 [04:33<00:00,  3.56it/s, Loss=0.7200, Acc=73.28%]\n",
      "验证中: 100%|██████████| 251/251 [00:26<00:00,  9.32it/s, Loss=1.7385, Acc=54.25%]\n"
     ]
    },
    {
     "name": "stdout",
     "output_type": "stream",
     "text": [
      "\n",
      "Epoch 46/300\n",
      "--------------------------------------------------\n"
     ]
    },
    {
     "name": "stderr",
     "output_type": "stream",
     "text": [
      "训练中: 100%|██████████| 973/973 [04:32<00:00,  3.57it/s, Loss=0.6461, Acc=76.17%]\n",
      "验证中: 100%|██████████| 251/251 [00:26<00:00,  9.33it/s, Loss=1.7498, Acc=54.27%]\n"
     ]
    },
    {
     "name": "stdout",
     "output_type": "stream",
     "text": [
      "\n",
      "Epoch 47/300\n",
      "--------------------------------------------------\n"
     ]
    },
    {
     "name": "stderr",
     "output_type": "stream",
     "text": [
      "训练中: 100%|██████████| 973/973 [04:33<00:00,  3.56it/s, Loss=0.6187, Acc=77.17%]\n",
      "验证中: 100%|██████████| 251/251 [00:26<00:00,  9.32it/s, Loss=1.6497, Acc=56.05%]\n"
     ]
    },
    {
     "name": "stdout",
     "output_type": "stream",
     "text": [
      "✓ 保存最佳模型 (验证损失: 1.6497, 验证准确率: 56.05%)\n",
      "\n",
      "Epoch 48/300\n",
      "--------------------------------------------------\n"
     ]
    },
    {
     "name": "stderr",
     "output_type": "stream",
     "text": [
      "训练中: 100%|██████████| 973/973 [04:33<00:00,  3.56it/s, Loss=0.5823, Acc=78.16%]\n",
      "验证中: 100%|██████████| 251/251 [00:26<00:00,  9.31it/s, Loss=1.6963, Acc=56.07%]\n"
     ]
    },
    {
     "name": "stdout",
     "output_type": "stream",
     "text": [
      "\n",
      "Epoch 49/300\n",
      "--------------------------------------------------\n"
     ]
    },
    {
     "name": "stderr",
     "output_type": "stream",
     "text": [
      "训练中: 100%|██████████| 973/973 [04:34<00:00,  3.55it/s, Loss=0.5756, Acc=78.79%]\n",
      "验证中: 100%|██████████| 251/251 [00:27<00:00,  9.27it/s, Loss=1.7068, Acc=56.60%]\n"
     ]
    },
    {
     "name": "stdout",
     "output_type": "stream",
     "text": [
      "\n",
      "Epoch 50/300\n",
      "--------------------------------------------------\n"
     ]
    },
    {
     "name": "stderr",
     "output_type": "stream",
     "text": [
      "训练中: 100%|██████████| 973/973 [04:33<00:00,  3.55it/s, Loss=0.5635, Acc=78.62%]\n",
      "验证中: 100%|██████████| 251/251 [00:27<00:00,  9.29it/s, Loss=1.6787, Acc=56.87%]\n"
     ]
    },
    {
     "name": "stdout",
     "output_type": "stream",
     "text": [
      "\n",
      "Epoch 51/300\n",
      "--------------------------------------------------\n"
     ]
    },
    {
     "name": "stderr",
     "output_type": "stream",
     "text": [
      "训练中: 100%|██████████| 973/973 [04:34<00:00,  3.55it/s, Loss=0.5382, Acc=79.38%]\n",
      "验证中: 100%|██████████| 251/251 [00:26<00:00,  9.32it/s, Loss=1.7047, Acc=57.62%]\n"
     ]
    },
    {
     "name": "stdout",
     "output_type": "stream",
     "text": [
      "\n",
      "Epoch 52/300\n",
      "--------------------------------------------------\n"
     ]
    },
    {
     "name": "stderr",
     "output_type": "stream",
     "text": [
      "训练中: 100%|██████████| 973/973 [04:32<00:00,  3.57it/s, Loss=0.5225, Acc=80.56%]\n",
      "验证中: 100%|██████████| 251/251 [00:26<00:00,  9.32it/s, Loss=1.7028, Acc=57.75%]\n"
     ]
    },
    {
     "name": "stdout",
     "output_type": "stream",
     "text": [
      "\n",
      "Epoch 53/300\n",
      "--------------------------------------------------\n"
     ]
    },
    {
     "name": "stderr",
     "output_type": "stream",
     "text": [
      "训练中: 100%|██████████| 973/973 [04:32<00:00,  3.57it/s, Loss=0.5123, Acc=80.61%]\n",
      "验证中: 100%|██████████| 251/251 [00:26<00:00,  9.33it/s, Loss=1.6933, Acc=58.20%]\n"
     ]
    },
    {
     "name": "stdout",
     "output_type": "stream",
     "text": [
      "\n",
      "Epoch 54/300\n",
      "--------------------------------------------------\n"
     ]
    },
    {
     "name": "stderr",
     "output_type": "stream",
     "text": [
      "训练中: 100%|██████████| 973/973 [04:34<00:00,  3.55it/s, Loss=0.4967, Acc=81.55%]\n",
      "验证中: 100%|██████████| 251/251 [00:27<00:00,  9.26it/s, Loss=1.6825, Acc=58.02%]\n"
     ]
    },
    {
     "name": "stdout",
     "output_type": "stream",
     "text": [
      "\n",
      "Epoch 55/300\n",
      "--------------------------------------------------\n"
     ]
    },
    {
     "name": "stderr",
     "output_type": "stream",
     "text": [
      "训练中: 100%|██████████| 973/973 [04:33<00:00,  3.55it/s, Loss=0.4772, Acc=82.40%]\n",
      "验证中: 100%|██████████| 251/251 [00:27<00:00,  9.28it/s, Loss=1.7321, Acc=57.67%]\n"
     ]
    },
    {
     "name": "stdout",
     "output_type": "stream",
     "text": [
      "\n",
      "Epoch 56/300\n",
      "--------------------------------------------------\n"
     ]
    },
    {
     "name": "stderr",
     "output_type": "stream",
     "text": [
      "训练中: 100%|██████████| 973/973 [04:33<00:00,  3.56it/s, Loss=0.4592, Acc=82.97%]\n",
      "验证中: 100%|██████████| 251/251 [00:27<00:00,  9.28it/s, Loss=1.7284, Acc=58.35%]\n"
     ]
    },
    {
     "name": "stdout",
     "output_type": "stream",
     "text": [
      "\n",
      "Epoch 57/300\n",
      "--------------------------------------------------\n"
     ]
    },
    {
     "name": "stderr",
     "output_type": "stream",
     "text": [
      "训练中: 100%|██████████| 973/973 [04:34<00:00,  3.55it/s, Loss=0.4475, Acc=83.31%]\n",
      "验证中: 100%|██████████| 251/251 [00:26<00:00,  9.33it/s, Loss=1.7233, Acc=58.77%]\n"
     ]
    },
    {
     "name": "stdout",
     "output_type": "stream",
     "text": [
      "\n",
      "Epoch 58/300\n",
      "--------------------------------------------------\n"
     ]
    },
    {
     "name": "stderr",
     "output_type": "stream",
     "text": [
      "训练中: 100%|██████████| 973/973 [04:33<00:00,  3.56it/s, Loss=0.4321, Acc=83.49%]\n",
      "验证中: 100%|██████████| 251/251 [00:26<00:00,  9.30it/s, Loss=1.7170, Acc=58.82%]\n"
     ]
    },
    {
     "name": "stdout",
     "output_type": "stream",
     "text": [
      "\n",
      "Epoch 59/300\n",
      "--------------------------------------------------\n"
     ]
    },
    {
     "name": "stderr",
     "output_type": "stream",
     "text": [
      "训练中: 100%|██████████| 973/973 [04:31<00:00,  3.58it/s, Loss=0.4364, Acc=83.27%]\n",
      "验证中: 100%|██████████| 251/251 [00:26<00:00,  9.35it/s, Loss=1.7207, Acc=58.97%]\n"
     ]
    },
    {
     "name": "stdout",
     "output_type": "stream",
     "text": [
      "\n",
      "Epoch 60/300\n",
      "--------------------------------------------------\n"
     ]
    },
    {
     "name": "stderr",
     "output_type": "stream",
     "text": [
      "训练中: 100%|██████████| 973/973 [04:33<00:00,  3.55it/s, Loss=0.4351, Acc=83.74%]\n",
      "验证中: 100%|██████████| 251/251 [00:27<00:00,  9.27it/s, Loss=1.7256, Acc=58.85%]\n"
     ]
    },
    {
     "name": "stdout",
     "output_type": "stream",
     "text": [
      "\n",
      "Epoch 61/300\n",
      "--------------------------------------------------\n"
     ]
    },
    {
     "name": "stderr",
     "output_type": "stream",
     "text": [
      "训练中: 100%|██████████| 973/973 [04:33<00:00,  3.56it/s, Loss=0.4206, Acc=83.74%]\n",
      "验证中: 100%|██████████| 251/251 [00:26<00:00,  9.31it/s, Loss=1.7262, Acc=59.12%]\n"
     ]
    },
    {
     "name": "stdout",
     "output_type": "stream",
     "text": [
      "\n",
      "Epoch 62/300\n",
      "--------------------------------------------------\n"
     ]
    },
    {
     "name": "stderr",
     "output_type": "stream",
     "text": [
      "训练中: 100%|██████████| 973/973 [04:32<00:00,  3.57it/s, Loss=0.4352, Acc=83.56%]\n",
      "验证中: 100%|██████████| 251/251 [00:26<00:00,  9.39it/s, Loss=1.7071, Acc=59.45%]\n"
     ]
    },
    {
     "name": "stdout",
     "output_type": "stream",
     "text": [
      "\n",
      "Epoch 63/300\n",
      "--------------------------------------------------\n"
     ]
    },
    {
     "name": "stderr",
     "output_type": "stream",
     "text": [
      "训练中: 100%|██████████| 973/973 [04:32<00:00,  3.56it/s, Loss=0.4296, Acc=84.12%]\n",
      "验证中: 100%|██████████| 251/251 [00:26<00:00,  9.40it/s, Loss=1.7219, Acc=59.32%]\n"
     ]
    },
    {
     "name": "stdout",
     "output_type": "stream",
     "text": [
      "\n",
      "Epoch 64/300\n",
      "--------------------------------------------------\n"
     ]
    },
    {
     "name": "stderr",
     "output_type": "stream",
     "text": [
      "训练中: 100%|██████████| 973/973 [04:33<00:00,  3.56it/s, Loss=0.4062, Acc=84.53%]\n",
      "验证中: 100%|██████████| 251/251 [00:27<00:00,  9.29it/s, Loss=1.7166, Acc=59.25%]\n"
     ]
    },
    {
     "name": "stdout",
     "output_type": "stream",
     "text": [
      "\n",
      "Epoch 65/300\n",
      "--------------------------------------------------\n"
     ]
    },
    {
     "name": "stderr",
     "output_type": "stream",
     "text": [
      "训练中: 100%|██████████| 973/973 [04:32<00:00,  3.57it/s, Loss=0.4183, Acc=83.89%]\n",
      "验证中: 100%|██████████| 251/251 [00:26<00:00,  9.34it/s, Loss=1.7098, Acc=59.52%]\n"
     ]
    },
    {
     "name": "stdout",
     "output_type": "stream",
     "text": [
      "\n",
      "Epoch 66/300\n",
      "--------------------------------------------------\n"
     ]
    },
    {
     "name": "stderr",
     "output_type": "stream",
     "text": [
      "训练中: 100%|██████████| 973/973 [04:32<00:00,  3.57it/s, Loss=0.4207, Acc=84.30%]\n",
      "验证中: 100%|██████████| 251/251 [00:26<00:00,  9.36it/s, Loss=1.7167, Acc=59.17%]\n"
     ]
    },
    {
     "name": "stdout",
     "output_type": "stream",
     "text": [
      "\n",
      "Epoch 67/300\n",
      "--------------------------------------------------\n"
     ]
    },
    {
     "name": "stderr",
     "output_type": "stream",
     "text": [
      "训练中: 100%|██████████| 973/973 [04:33<00:00,  3.56it/s, Loss=0.4057, Acc=84.61%]\n",
      "验证中: 100%|██████████| 251/251 [00:27<00:00,  9.28it/s, Loss=1.7251, Acc=59.47%]"
     ]
    },
    {
     "name": "stdout",
     "output_type": "stream",
     "text": [
      "早停触发，连续20个epoch验证损失没有改善\n",
      "\n",
      "训练完成！最佳验证准确率: 56.05%\n"
     ]
    },
    {
     "name": "stderr",
     "output_type": "stream",
     "text": [
      "\n"
     ]
    }
   ],
   "source": [
    "# 训练设置\n",
    "num_epochs = 300\n",
    "best_val_loss = float('inf')\n",
    "best_val_acc = 0.0\n",
    "patience = 20\n",
    "patience_counter = 0\n",
    "\n",
    "# 创建保存目录\n",
    "os.makedirs('models', exist_ok=True)\n",
    "\n",
    "# 训练历史记录\n",
    "train_losses = []\n",
    "train_accs = []\n",
    "val_losses = []\n",
    "val_accs = []\n",
    "\n",
    "print(\"开始训练...\")\n",
    "for epoch in range(num_epochs):\n",
    "    print(f\"\\nEpoch {epoch+1}/{num_epochs}\")\n",
    "    print(\"-\" * 50)\n",
    "    \n",
    "    # 训练\n",
    "    train_loss, train_acc = train_epoch(model, train_loader, criterion, optimizer, device)\n",
    "    \n",
    "    # 验证（使用测试集作为验证集）\n",
    "    val_loss, val_acc, _, _ = validate_epoch(model, test_loader, criterion, device)\n",
    "    \n",
    "    # 学习率调度\n",
    "    scheduler.step(val_loss)\n",
    "    \n",
    "    # 记录历史\n",
    "    train_losses.append(train_loss)\n",
    "    train_accs.append(train_acc)\n",
    "    val_losses.append(val_loss)\n",
    "    val_accs.append(val_acc)\n",
    "    \n",
    "    # 保存最佳模型\n",
    "    if val_loss < best_val_loss:\n",
    "        best_val_loss = val_loss\n",
    "        best_val_acc = val_acc\n",
    "        patience_counter = 0\n",
    "        \n",
    "        # 保存最佳模型\n",
    "        torch.save({\n",
    "            'epoch': epoch + 1,\n",
    "            'model_state_dict': model.state_dict(),\n",
    "            'optimizer_state_dict': optimizer.state_dict(),\n",
    "            'best_val_loss': best_val_loss,\n",
    "            'best_val_acc': best_val_acc,\n",
    "            'mapping_info': mapping_info\n",
    "        }, 'models/best_model.pth')\n",
    "        \n",
    "        print(f\"✓ 保存最佳模型 (验证损失: {best_val_loss:.4f}, 验证准确率: {best_val_acc:.2f}%)\")\n",
    "    else:\n",
    "        patience_counter += 1\n",
    "        \n",
    "    # 早停\n",
    "    if patience_counter >= patience:\n",
    "        print(f\"早停触发，连续{patience}个epoch验证损失没有改善\")\n",
    "        break\n",
    "\n",
    "print(f\"\\n训练完成！最佳验证准确率: {best_val_acc:.2f}%\")"
   ]
  },
  {
   "cell_type": "markdown",
   "id": "c888c40e",
   "metadata": {},
   "source": [
    "## 7. 训练历史可视化"
   ]
  },
  {
   "cell_type": "code",
   "execution_count": 7,
   "id": "99505c99",
   "metadata": {},
   "outputs": [
    {
     "data": {
      "image/png": "[encoded data removed]",
      "text/plain": [
       "<Figure size 1200x400 with 2 Axes>"
      ]
     },
     "metadata": {},
     "output_type": "display_data"
    },
    {
     "name": "stdout",
     "output_type": "stream",
     "text": [
      "训练历史图表已保存\n"
     ]
    }
   ],
   "source": [
    "# 绘制训练历史\n",
    "plt.figure(figsize=(12, 4))\n",
    "\n",
    "plt.subplot(1, 2, 1)\n",
    "plt.plot(train_losses, label='训练损失', linewidth=2)\n",
    "plt.plot(val_losses, label='验证损失', linewidth=2)\n",
    "plt.title('训练和验证损失', fontsize=14, pad=15)\n",
    "plt.xlabel('训练轮次 (Epoch)', fontsize=12)\n",
    "plt.ylabel('损失值', fontsize=12)\n",
    "plt.legend(fontsize=10)\n",
    "plt.grid(True, alpha=0.3)\n",
    "\n",
    "plt.subplot(1, 2, 2)\n",
    "plt.plot(train_accs, label='训练准确率', linewidth=2)\n",
    "plt.plot(val_accs, label='验证准确率', linewidth=2)\n",
    "plt.title('训练和验证准确率', fontsize=14, pad=15)\n",
    "plt.xlabel('训练轮次 (Epoch)', fontsize=12)\n",
    "plt.ylabel('准确率 (%)', fontsize=12)\n",
    "plt.legend(fontsize=10)\n",
    "plt.grid(True, alpha=0.3)\n",
    "\n",
    "plt.tight_layout()\n",
    "plt.savefig('models/training_history.png', dpi=300, bbox_inches='tight', \n",
    "            facecolor='white', edgecolor='none')\n",
    "plt.show()\n",
    "\n",
    "print(\"训练历史图表已保存\")"
   ]
  },
  {
   "cell_type": "markdown",
   "id": "1a98bab1",
   "metadata": {},
   "source": [
    "## 8. 模型测试"
   ]
  },
  {
   "cell_type": "code",
   "execution_count": 8,
   "id": "a2a1405c",
   "metadata": {},
   "outputs": [
    {
     "name": "stdout",
     "output_type": "stream",
     "text": [
      "加载最佳模型 (Epoch 47)\n",
      "最佳验证损失: 1.6497\n",
      "最佳验证准确率: 56.05%\n",
      "\n",
      "在测试集上评估...\n"
     ]
    },
    {
     "name": "stderr",
     "output_type": "stream",
     "text": [
      "验证中: 100%|██████████| 251/251 [00:26<00:00,  9.39it/s, Loss=1.6497, Acc=56.05%]"
     ]
    },
    {
     "name": "stdout",
     "output_type": "stream",
     "text": [
      "\n",
      "测试结果:\n",
      "测试损失: 1.6497\n",
      "测试准确率: 56.05%\n"
     ]
    },
    {
     "name": "stderr",
     "output_type": "stream",
     "text": [
      "\n"
     ]
    }
   ],
   "source": [
    "# 加载最佳模型\n",
    "checkpoint = torch.load('models/best_model.pth', map_location=device)\n",
    "model.load_state_dict(checkpoint['model_state_dict'])\n",
    "\n",
    "print(f\"加载最佳模型 (Epoch {checkpoint['epoch']})\")\n",
    "print(f\"最佳验证损失: {checkpoint['best_val_loss']:.4f}\")\n",
    "print(f\"最佳验证准确率: {checkpoint['best_val_acc']:.2f}%\")\n",
    "\n",
    "# 在测试集上评估\n",
    "print(\"\\n在测试集上评估...\")\n",
    "test_loss, test_acc, test_preds, test_labels = validate_epoch(model, test_loader, criterion, device)\n",
    "\n",
    "print(f\"\\n测试结果:\")\n",
    "print(f\"测试损失: {test_loss:.4f}\")\n",
    "print(f\"测试准确率: {test_acc:.2f}%\")"
   ]
  },
  {
   "cell_type": "markdown",
   "id": "67e03f69",
   "metadata": {},
   "source": [
    "## 9. 详细评估和可视化"
   ]
  },
  {
   "cell_type": "code",
   "execution_count": 9,
   "id": "c9d8afff",
   "metadata": {},
   "outputs": [
    {
     "name": "stdout",
     "output_type": "stream",
     "text": [
      "\n",
      "分类报告:\n",
      "                                                                    precision    recall  f1-score   support\n",
      "\n",
      "                                           Acne and Rosacea Photos      0.787     0.875     0.829       312\n",
      "Actinic Keratosis Basal Cell Carcinoma and other Malignant Lesions      0.650     0.601     0.625       288\n",
      "                                          Atopic Dermatitis Photos      0.496     0.455     0.475       123\n",
      "                                            Bullous Disease Photos      0.391     0.442     0.415       113\n",
      "                Cellulitis Impetigo and other Bacterial Infections      0.302     0.397     0.343        73\n",
      "                                                     Eczema Photos      0.617     0.553     0.584       309\n",
      "                                      Exanthems and Drug Eruptions      0.465     0.594     0.522       101\n",
      "                 Hair Loss Photos Alopecia and other Hair Diseases      0.461     0.783     0.580        60\n",
      "                                  Herpes HPV and other STDs Photos      0.510     0.520     0.515       102\n",
      "                      Light Diseases and Disorders of Pigmentation      0.422     0.545     0.476       143\n",
      "                        Lupus and other Connective Tissue diseases      0.370     0.448     0.405       105\n",
      "                               Melanoma Skin Cancer Nevi and Moles      0.567     0.802     0.664       116\n",
      "                                Nail Fungus and other Nail Disease      0.837     0.766     0.800       261\n",
      "                    Poison Ivy Photos and other Contact Dermatitis      0.395     0.492     0.438        65\n",
      "             Psoriasis pictures Lichen Planus and related diseases      0.548     0.355     0.431       352\n",
      "             Scabies Lyme Disease and other Infestations and Bites      0.406     0.380     0.392       108\n",
      "                      Seborrheic Keratoses and other Benign Tumors      0.582     0.496     0.535       343\n",
      "                                                  Systemic Disease      0.402     0.487     0.440       152\n",
      "            Tinea Ringworm Candidiasis and other Fungal Infections      0.599     0.548     0.572       325\n",
      "                                                   Urticaria Hives      0.468     0.547     0.504        53\n",
      "                                                   Vascular Tumors      0.514     0.628     0.565       121\n",
      "                                                 Vasculitis Photos      0.471     0.629     0.539       105\n",
      "                        Warts Molluscum and other Viral Infections      0.635     0.449     0.526       272\n",
      "\n",
      "                                                          accuracy                          0.560      4002\n",
      "                                                         macro avg      0.517     0.556     0.529      4002\n",
      "                                                      weighted avg      0.572     0.560     0.560      4002\n",
      "\n"
     ]
    },
    {
     "data": {
      "image/png": "[encoded data removed]",
      "text/plain": [
       "<Figure size 1600x1400 with 2 Axes>"
      ]
     },
     "metadata": {},
     "output_type": "display_data"
    },
    {
     "name": "stdout",
     "output_type": "stream",
     "text": [
      "\n",
      "混淆矩阵已保存\n"
     ]
    }
   ],
   "source": [
    "# 分类报告\n",
    "print(\"\\n分类报告:\")\n",
    "print(classification_report(test_labels, test_preds, \n",
    "                          target_names=mapping_info['categories'], \n",
    "                          digits=3))\n",
    "\n",
    "# 混淆矩阵 - 修复中文显示\n",
    "cm = confusion_matrix(test_labels, test_preds)\n",
    "\n",
    "# 简化类别名称以便显示\n",
    "short_categories = []\n",
    "for cat in mapping_info['categories']:\n",
    "    if len(cat) > 15:  # 如果类别名太长，截取前15个字符\n",
    "        short_cat = cat[:15] + \"...\"\n",
    "    else:\n",
    "        short_cat = cat\n",
    "    short_categories.append(short_cat)\n",
    "\n",
    "plt.figure(figsize=(16, 14))\n",
    "# 使用更小的字体和调整参数\n",
    "sns.heatmap(cm, annot=True, fmt='d', cmap='Blues', \n",
    "            xticklabels=short_categories,\n",
    "            yticklabels=short_categories,\n",
    "            cbar_kws={'shrink': 0.8})\n",
    "\n",
    "plt.title('皮肤病分类混淆矩阵', fontsize=16, pad=20)\n",
    "plt.xlabel('预测标签', fontsize=12)\n",
    "plt.ylabel('真实标签', fontsize=12)\n",
    "\n",
    "# 调整x轴标签\n",
    "plt.xticks(rotation=45, ha='right', fontsize=8)\n",
    "plt.yticks(rotation=0, fontsize=8)\n",
    "\n",
    "plt.tight_layout()\n",
    "plt.savefig('models/confusion_matrix.png', dpi=300, bbox_inches='tight', \n",
    "            facecolor='white', edgecolor='none')\n",
    "plt.show()\n",
    "\n",
    "print(\"\\n混淆矩阵已保存\")"
   ]
  },
  {
   "cell_type": "markdown",
   "id": "eecd7507",
   "metadata": {},
   "source": [
    "## 10. 保存最终结果"
   ]
  },
  {
   "cell_type": "code",
   "execution_count": 10,
   "id": "d8f061fc",
   "metadata": {},
   "outputs": [
    {
     "name": "stdout",
     "output_type": "stream",
     "text": [
      "\n",
      "=== 训练和测试完成 ===\n",
      "最佳模型保存在: models/best_model.pth\n",
      "训练历史保存在: models/training_history.json\n",
      "测试结果保存在: models/test_results.json\n",
      "\n",
      "最终测试准确率: 56.05%\n"
     ]
    }
   ],
   "source": [
    "# 保存训练历史\n",
    "history = {\n",
    "    'train_losses': train_losses,\n",
    "    'train_accs': train_accs,\n",
    "    'val_losses': val_losses,\n",
    "    'val_accs': val_accs,\n",
    "    'best_val_loss': best_val_loss,\n",
    "    'best_val_acc': best_val_acc,\n",
    "    'test_loss': test_loss,\n",
    "    'test_acc': test_acc\n",
    "}\n",
    "\n",
    "with open('models/training_history.json', 'w') as f:\n",
    "    json.dump(history, f, indent=2)\n",
    "\n",
    "# 保存测试结果\n",
    "test_results = {\n",
    "    'test_accuracy': test_acc,\n",
    "    'test_loss': test_loss,\n",
    "    'classification_report': classification_report(test_labels, test_preds, \n",
    "                                                 target_names=mapping_info['categories'], \n",
    "                                                 output_dict=True)\n",
    "}\n",
    "\n",
    "with open('models/test_results.json', 'w') as f:\n",
    "    json.dump(test_results, f, indent=2)\n",
    "\n",
    "print(\"\\n=== 训练和测试完成 ===\")\n",
    "print(f\"最佳模型保存在: models/best_model.pth\")\n",
    "print(f\"训练历史保存在: models/training_history.json\")\n",
    "print(f\"测试结果保存在: models/test_results.json\")\n",
    "print(f\"\\n最终测试准确率: {test_acc:.2f}%\")"
   ]
  }
 ],
 "metadata": {
  "kernelspec": {
   "display_name": "capstone",
   "language": "python",
   "name": "python3"
  },
  "language_info": {
   "codemirror_mode": {
    "name": "ipython",
    "version": 3
   },
   "file_extension": ".py",
   "mimetype": "text/x-python",
   "name": "python",
   "nbconvert_exporter": "python",
   "pygments_lexer": "ipython3",
   "version": "3.11.13"
  }
 },
 "nbformat": 4,
 "nbformat_minor": 5
}
