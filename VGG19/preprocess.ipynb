{
 "cells": [
  {
   "cell_type": "markdown",
   "id": "cef5de5b",
   "metadata": {},
   "source": [
    "# DermNet 数据预处理\n",
    "简化版数据预处理，专注于核心功能"
   ]
  },
  {
   "cell_type": "markdown",
   "id": "2d218233",
   "metadata": {},
   "source": [
    "## 1. 环境初始化"
   ]
  },
  {
   "cell_type": "code",
   "execution_count": 48,
   "id": "c31571d4",
   "metadata": {},
   "outputs": [
    {
     "name": "stdout",
     "output_type": "stream",
     "text": [
      "环境初始化完成\n"
     ]
    }
   ],
   "source": [
    "import os\n",
    "import pandas as pd\n",
    "import numpy as np\n",
    "import json\n",
    "from sklearn.preprocessing import LabelEncoder\n",
    "import torch\n",
    "from torch.utils.data import Dataset, DataLoader\n",
    "import albumentations as A\n",
    "from albumentations.pytorch import ToTensorV2\n",
    "import cv2\n",
    "\n",
    "# 设置随机种子\n",
    "np.random.seed(42)\n",
    "torch.manual_seed(42)\n",
    "\n",
    "print(\"环境初始化完成\")"
   ]
  },
  {
   "cell_type": "markdown",
   "id": "163a91ea",
   "metadata": {},
   "source": [
    "## 2. 路径配置"
   ]
  },
  {
   "cell_type": "code",
   "execution_count": 49,
   "id": "d0f4c48a",
   "metadata": {},
   "outputs": [
    {
     "name": "stdout",
     "output_type": "stream",
     "text": [
      "输出目录: processed_data\n"
     ]
    }
   ],
   "source": [
    "# 路径配置 - 使用相对路径\n",
    "dataset_dir = \"DermNet\"\n",
    "train_dir = os.path.join(dataset_dir, \"train\")\n",
    "test_dir = os.path.join(dataset_dir, \"test\")\n",
    "processed_dir = \"processed_data\"\n",
    "\n",
    "os.makedirs(processed_dir, exist_ok=True)\n",
    "print(f\"输出目录: {processed_dir}\")"
   ]
  },
  {
   "cell_type": "markdown",
   "id": "cb483e93",
   "metadata": {},
   "source": [
    "## 3. 数据收集"
   ]
  },
  {
   "cell_type": "code",
   "execution_count": 50,
   "id": "f54eae36",
   "metadata": {},
   "outputs": [
    {
     "name": "stdout",
     "output_type": "stream",
     "text": [
      "训练集: 15557, 测试集: 4002, 总计: 19559\n",
      "示例路径: DermNet/train/Acne and Rosacea Photos/07Acne081101.jpg\n"
     ]
    }
   ],
   "source": [
    "def collect_data(data_dir, dataset_type):\n",
    "    \"\"\"收集数据信息 - 使用相对路径\"\"\"\n",
    "    data_list = []\n",
    "    categories = [d for d in os.listdir(data_dir) if os.path.isdir(os.path.join(data_dir, d))]\n",
    "    \n",
    "    for category in categories:\n",
    "        category_path = os.path.join(data_dir, category)\n",
    "        image_files = [f for f in os.listdir(category_path) \n",
    "                      if f.lower().endswith(('.jpg', '.jpeg', '.png', '.bmp'))]\n",
    "        \n",
    "        for img_file in image_files:\n",
    "            # 生成相对路径而不是绝对路径\n",
    "            relative_path = os.path.join(data_dir, category, img_file)\n",
    "            # 确保使用正斜杠以提高跨平台兼容性\n",
    "            relative_path = relative_path.replace('\\\\', '/')\n",
    "            \n",
    "            data_list.append({\n",
    "                'image_path': relative_path,\n",
    "                'category': category,\n",
    "                'dataset_type': dataset_type\n",
    "            })\n",
    "    \n",
    "    return data_list\n",
    "\n",
    "# 收集数据\n",
    "train_data = collect_data(train_dir, \"train\")\n",
    "test_data = collect_data(test_dir, \"test\")\n",
    "all_data = train_data + test_data\n",
    "\n",
    "print(f\"训练集: {len(train_data)}, 测试集: {len(test_data)}, 总计: {len(all_data)}\")\n",
    "print(f\"示例路径: {all_data[0]['image_path']}\")"
   ]
  },
  {
   "cell_type": "code",
   "execution_count": 51,
   "id": "b4f8f6ad",
   "metadata": {},
   "outputs": [
    {
     "name": "stdout",
     "output_type": "stream",
     "text": [
      "转换 train.csv 中的路径...\n",
      "  转换完成，示例路径: DermNet/train/Acne and Rosacea Photos/07Acne081101.jpg\n",
      "转换 test.csv 中的路径...\n",
      "  转换完成，示例路径: DermNet/test/Acne and Rosacea Photos/07PerioralDermEye.jpg\n",
      "转换 full_dataset.csv 中的路径...\n",
      "  转换完成，示例路径: DermNet/train/Acne and Rosacea Photos/07Acne081101.jpg\n",
      "  转换完成，示例路径: DermNet/train/Acne and Rosacea Photos/07Acne081101.jpg\n"
     ]
    }
   ],
   "source": [
    "# 如果已经存在CSV文件，将其中的绝对路径转换为相对路径\n",
    "def convert_absolute_to_relative_paths():\n",
    "    \"\"\"将现有CSV文件中的绝对路径转换为相对路径\"\"\"\n",
    "    csv_files = ['train.csv', 'test.csv', 'full_dataset.csv']\n",
    "    \n",
    "    for csv_file in csv_files:\n",
    "        csv_path = os.path.join(processed_dir, csv_file)\n",
    "        if os.path.exists(csv_path):\n",
    "            print(f\"转换 {csv_file} 中的路径...\")\n",
    "            df = pd.read_csv(csv_path)\n",
    "            \n",
    "            # 转换路径\n",
    "            def convert_path(path):\n",
    "                if os.path.isabs(path):\n",
    "                    # 提取相对于当前工作目录的路径\n",
    "                    if 'DermNet' in path:\n",
    "                        # 找到DermNet的位置\n",
    "                        parts = path.split(os.sep)\n",
    "                        try:\n",
    "                            dermnet_idx = parts.index('DermNet')\n",
    "                            relative_path = '/'.join(parts[dermnet_idx:])\n",
    "                            return relative_path\n",
    "                        except ValueError:\n",
    "                            return path\n",
    "                return path.replace('\\\\', '/')\n",
    "            \n",
    "            df['image_path'] = df['image_path'].apply(convert_path)\n",
    "            df.to_csv(csv_path, index=False)\n",
    "            print(f\"  转换完成，示例路径: {df.iloc[0]['image_path']}\")\n",
    "    \n",
    "# 检查并转换现有文件\n",
    "if os.path.exists(processed_dir):\n",
    "    convert_absolute_to_relative_paths()"
   ]
  },
  {
   "cell_type": "markdown",
   "id": "661502f7",
   "metadata": {},
   "source": [
    "## 4. 标签编码"
   ]
  },
  {
   "cell_type": "code",
   "execution_count": 52,
   "id": "4ef7ef87",
   "metadata": {},
   "outputs": [
    {
     "name": "stdout",
     "output_type": "stream",
     "text": [
      "类别数: 23\n"
     ]
    }
   ],
   "source": [
    "# 创建标签映射\n",
    "categories = sorted(list(set([item['category'] for item in all_data])))\n",
    "category_to_idx = {cat: idx for idx, cat in enumerate(categories)}\n",
    "idx_to_category = {idx: cat for cat, idx in category_to_idx.items()}\n",
    "\n",
    "# 保存映射\n",
    "mapping_info = {\n",
    "    'categories': categories,\n",
    "    'category_to_idx': category_to_idx,\n",
    "    'idx_to_category': idx_to_category,\n",
    "    'num_classes': len(categories)\n",
    "}\n",
    "\n",
    "with open(os.path.join(processed_dir, 'category_mapping.json'), 'w', encoding='utf-8') as f:\n",
    "    json.dump(mapping_info, f, ensure_ascii=False, indent=2)\n",
    "\n",
    "print(f\"类别数: {len(categories)}\")"
   ]
  },
  {
   "cell_type": "markdown",
   "id": "2b55318a",
   "metadata": {},
   "source": [
    "## 5. 类别权重计算"
   ]
  },
  {
   "cell_type": "code",
   "execution_count": 53,
   "id": "158ca076",
   "metadata": {},
   "outputs": [
    {
     "name": "stdout",
     "output_type": "stream",
     "text": [
      "权重范围: 0.484 ~ 3.209\n"
     ]
    }
   ],
   "source": [
    "# 创建数据框\n",
    "df = pd.DataFrame(all_data)\n",
    "df['label'] = df['category'].map(category_to_idx)\n",
    "\n",
    "# 计算类别权重\n",
    "class_counts = df['label'].value_counts().sort_index()\n",
    "total_samples = len(df)\n",
    "class_weights = total_samples / (len(categories) * class_counts)\n",
    "class_weights_dict = class_weights.to_dict()\n",
    "\n",
    "# 保存权重\n",
    "with open(os.path.join(processed_dir, 'class_weights.json'), 'w') as f:\n",
    "    json.dump(class_weights_dict, f, indent=2)\n",
    "\n",
    "print(f\"权重范围: {class_weights.min():.3f} ~ {class_weights.max():.3f}\")"
   ]
  },
  {
   "cell_type": "markdown",
   "id": "05a67e03",
   "metadata": {},
   "source": [
    "## 6. 数据增强定义"
   ]
  },
  {
   "cell_type": "code",
   "execution_count": 54,
   "id": "3790c389",
   "metadata": {},
   "outputs": [
    {
     "name": "stdout",
     "output_type": "stream",
     "text": [
      "数据增强策略定义完成\n"
     ]
    }
   ],
   "source": [
    "def get_transforms(mode='train'):\n",
    "    \"\"\"获取数据变换\"\"\"\n",
    "    if mode == 'train':\n",
    "        return A.Compose([\n",
    "            A.Resize(256, 256),\n",
    "            A.RandomCrop(224, 224),\n",
    "            A.HorizontalFlip(p=0.5),\n",
    "            A.RandomBrightnessContrast(p=0.3),\n",
    "            A.Normalize(mean=[0.485, 0.456, 0.406], std=[0.229, 0.224, 0.225]),\n",
    "            ToTensorV2()\n",
    "        ])\n",
    "    else:\n",
    "        return A.Compose([\n",
    "            A.Resize(224, 224),\n",
    "            A.Normalize(mean=[0.485, 0.456, 0.406], std=[0.229, 0.224, 0.225]),\n",
    "            ToTensorV2()\n",
    "        ])\n",
    "\n",
    "print(\"数据增强策略定义完成\")"
   ]
  },
  {
   "cell_type": "markdown",
   "id": "530cb5c1",
   "metadata": {},
   "source": [
    "## 7. 数据集保存"
   ]
  },
  {
   "cell_type": "code",
   "execution_count": 55,
   "id": "c9046eb5",
   "metadata": {},
   "outputs": [
    {
     "name": "stdout",
     "output_type": "stream",
     "text": [
      "数据集已保存:\n",
      "  训练集: 15557 张\n",
      "  测试集: 4002 张\n"
     ]
    }
   ],
   "source": [
    "# 分离训练集和测试集\n",
    "train_df = df[df['dataset_type'] == 'train'].copy()\n",
    "test_df = df[df['dataset_type'] == 'test'].copy()\n",
    "\n",
    "# 保存CSV文件\n",
    "train_df.to_csv(os.path.join(processed_dir, 'train.csv'), index=False)\n",
    "test_df.to_csv(os.path.join(processed_dir, 'test.csv'), index=False)\n",
    "df.to_csv(os.path.join(processed_dir, 'full_dataset.csv'), index=False)\n",
    "\n",
    "print(f\"数据集已保存:\")\n",
    "print(f\"  训练集: {len(train_df)} 张\")\n",
    "print(f\"  测试集: {len(test_df)} 张\")"
   ]
  },
  {
   "cell_type": "markdown",
   "id": "e96792db",
   "metadata": {},
   "source": [
    "## 8. 数据集类定义"
   ]
  },
  {
   "cell_type": "code",
   "execution_count": 56,
   "id": "36ab807e",
   "metadata": {},
   "outputs": [
    {
     "name": "stdout",
     "output_type": "stream",
     "text": [
      "测试成功: torch.Size([2, 3, 224, 224]), 标签: tensor([0, 0])\n"
     ]
    }
   ],
   "source": [
    "class DermNetDataset(Dataset):\n",
    "    def __init__(self, dataframe, transform=None):\n",
    "        self.data = dataframe.reset_index(drop=True)\n",
    "        self.transform = transform\n",
    "        \n",
    "    def __len__(self):\n",
    "        return len(self.data)\n",
    "    \n",
    "    def __getitem__(self, idx):\n",
    "        row = self.data.iloc[idx]\n",
    "        \n",
    "        image = cv2.imread(row['image_path'])\n",
    "        if image is None:\n",
    "            raise ValueError(f\"无法读取图片: {row['image_path']}\")\n",
    "        image = cv2.cvtColor(image, cv2.COLOR_BGR2RGB)\n",
    "        \n",
    "        if self.transform:\n",
    "            transformed = self.transform(image=image)\n",
    "            image = transformed['image']\n",
    "        \n",
    "        return image, row['label']\n",
    "\n",
    "# 简单测试\n",
    "test_dataset = DermNetDataset(train_df.head(10), transform=get_transforms('train'))\n",
    "test_loader = DataLoader(test_dataset, batch_size=2, shuffle=False)\n",
    "\n",
    "for images, labels in test_loader:\n",
    "    print(f\"测试成功: {images.shape}, 标签: {labels}\")\n",
    "    break"
   ]
  },
  {
   "cell_type": "markdown",
   "id": "feeb0947",
   "metadata": {},
   "source": [
    "## 9. 完成总结"
   ]
  },
  {
   "cell_type": "code",
   "execution_count": 57,
   "id": "bfa09211",
   "metadata": {},
   "outputs": [
    {
     "name": "stdout",
     "output_type": "stream",
     "text": [
      "\n",
      "=== 预处理完成 ===\n",
      "总类别数: 23\n",
      "训练集: 15557 张\n",
      "测试集: 4002 张\n",
      "输出文件:\n",
      "  - category_mapping.json\n",
      "  - class_weights.json\n",
      "  - train.csv\n",
      "  - test.csv\n",
      "\n",
      "可以开始训练了！\n"
     ]
    }
   ],
   "source": [
    "print(\"\\n=== 预处理完成 ===\")\n",
    "print(f\"总类别数: {len(categories)}\")\n",
    "print(f\"训练集: {len(train_df)} 张\")\n",
    "print(f\"测试集: {len(test_df)} 张\")\n",
    "print(f\"输出文件:\")\n",
    "print(f\"  - category_mapping.json\")\n",
    "print(f\"  - class_weights.json\")\n",
    "print(f\"  - train.csv\")\n",
    "print(f\"  - test.csv\")\n",
    "print(f\"\\n可以开始训练了！\")"
   ]
  }
 ],
 "metadata": {
  "language_info": {
   "name": "python"
  }
 },
 "nbformat": 4,
 "nbformat_minor": 5
}
